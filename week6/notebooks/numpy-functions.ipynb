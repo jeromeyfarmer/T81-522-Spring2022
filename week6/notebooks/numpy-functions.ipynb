{
 "cells": [
  {
   "cell_type": "markdown",
   "metadata": {},
   "source": [
    "## Introduction\n",
    "\n",
    "As discussed in the last section, numpy provides a whole range of optimized built-in functions for various mathmatical operations and manipulations. \n",
    "\n",
    "\n",
    "### Basic descriptions of data\n",
    "Numpy provides a number of functions to describe datasets in arrays. "
   ]
  },
  {
   "cell_type": "code",
   "execution_count": 330,
   "metadata": {},
   "outputs": [],
   "source": [
    "from numpy import *\n",
    "CSV_FILE = \"/home/asimbanskota/t81_577_data_science/weekly_materials/week6/files/city.csv\"\n",
    "data = genfromtxt(CSV_FILE,delimiter=',', skip_header = 1)\n"
   ]
  },
  {
   "cell_type": "code",
   "execution_count": 62,
   "metadata": {},
   "outputs": [
    {
     "data": {
      "text/plain": [
       "(128, 5)"
      ]
     },
     "execution_count": 62,
     "metadata": {},
     "output_type": "execute_result"
    }
   ],
   "source": [
    "# shape of the data\n",
    "data.shape"
   ]
  },
  {
   "cell_type": "code",
   "execution_count": 153,
   "metadata": {},
   "outputs": [
    {
     "name": "stdout",
     "output_type": "stream",
     "text": [
      "nan\n",
      "65.19010416666667\n"
     ]
    }
   ],
   "source": [
    "print(mean(data))\n",
    "# Ignore nan values while computing mean\n",
    "print(nanmean(data))"
   ]
  },
  {
   "cell_type": "code",
   "execution_count": 118,
   "metadata": {},
   "outputs": [
    {
     "name": "stdout",
     "output_type": "stream",
     "text": [
      "Mean of column zero: 38.8203125\n",
      "Std deviation of column zero: 5.1802412976949\n",
      "Max value in the second column: 38.8203125\n",
      "Min value in the second column: 38.8203125\n"
     ]
    }
   ],
   "source": [
    "print('Mean of column zero: {}'.format(mean(data[:,1])))\n",
    "print('Std deviation of column zero: {}'.format(std(data[:,1])))\n",
    "print('Max value in the second column: {}'.format(mean(data[:,1])))\n",
    "print('Min value in the second column: {}'.format(mean(data[:,1])))"
   ]
  },
  {
   "cell_type": "code",
   "execution_count": 125,
   "metadata": {},
   "outputs": [
    {
     "data": {
      "text/plain": [
       "array([36.95,  5.18, 15.41,   nan,   nan])"
      ]
     },
     "execution_count": 125,
     "metadata": {},
     "output_type": "execute_result"
    }
   ],
   "source": [
    "set_printoptions(precision=2, suppress=True) \n",
    "std(data, axis = 0)"
   ]
  },
  {
   "cell_type": "code",
   "execution_count": 128,
   "metadata": {},
   "outputs": [],
   "source": [
    "mean(data[:,1:3], axis = 1);"
   ]
  },
  {
   "cell_type": "code",
   "execution_count": 27,
   "metadata": {},
   "outputs": [
    {
     "name": "stdout",
     "output_type": "stream",
     "text": [
      "Unique values in the first 5 rows of the second columns: [41. 42. 43. 46.]\n"
     ]
    }
   ],
   "source": [
    "print('Unique values in the first 5 rows of the second columns: {}'.format(unique(data[0:5,1])))"
   ]
  },
  {
   "cell_type": "code",
   "execution_count": 61,
   "metadata": {},
   "outputs": [
    {
     "data": {
      "text/plain": [
       "{41.0: 1, 42.0: 2, 43.0: 1, 46.0: 1}"
      ]
     },
     "execution_count": 61,
     "metadata": {},
     "output_type": "execute_result"
    }
   ],
   "source": [
    "unique, counts = unique(data[0:5,1], return_counts=True)\n",
    "dict(zip(unique, counts))"
   ]
  },
  {
   "cell_type": "code",
   "execution_count": 88,
   "metadata": {},
   "outputs": [
    {
     "name": "stdout",
     "output_type": "stream",
     "text": [
      "False\n",
      "True\n"
     ]
    }
   ],
   "source": [
    "data_sub = data[:,1] > 40\n",
    "print(data_sub.all())\n",
    "print(data_sub.any())"
   ]
  },
  {
   "cell_type": "code",
   "execution_count": 39,
   "metadata": {},
   "outputs": [
    {
     "name": "stdout",
     "output_type": "stream",
     "text": [
      "[4 6 3 2 2]\n"
     ]
    }
   ],
   "source": [
    "lst = [2,3,4,4,0,1,1,0,0,0,1,1,1,1,2,2,3]\n",
    "print(bincount(lst))\n",
    "# four zeroes, 6 ones, "
   ]
  },
  {
   "cell_type": "code",
   "execution_count": 157,
   "metadata": {},
   "outputs": [
    {
     "name": "stdout",
     "output_type": "stream",
     "text": [
      "[24 36 48 14] [30 35 40 45 50]\n"
     ]
    }
   ],
   "source": [
    "bins = array([30, 35, 40, 45, 50]) # increasing monotonically\n",
    "N,bins = histogram(data[:,1],bins)\n",
    "print(N, bins)"
   ]
  },
  {
   "cell_type": "markdown",
   "metadata": {},
   "source": [
    "### Array stacking  and splitting functions"
   ]
  },
  {
   "cell_type": "code",
   "execution_count": 312,
   "metadata": {},
   "outputs": [],
   "source": [
    "x = data[2:4,1:3]\n",
    "y = data[4:6,1:3]"
   ]
  },
  {
   "cell_type": "code",
   "execution_count": 323,
   "metadata": {},
   "outputs": [
    {
     "data": {
      "text/plain": [
       "array([[ 46., 120.],\n",
       "       [ 42.,  71.]])"
      ]
     },
     "execution_count": 323,
     "metadata": {},
     "output_type": "execute_result"
    }
   ],
   "source": [
    "x"
   ]
  },
  {
   "cell_type": "code",
   "execution_count": 324,
   "metadata": {},
   "outputs": [
    {
     "data": {
      "text/plain": [
       "array([[43., 89.],\n",
       "       [36., 80.]])"
      ]
     },
     "execution_count": 324,
     "metadata": {},
     "output_type": "execute_result"
    }
   ],
   "source": [
    "y"
   ]
  },
  {
   "cell_type": "code",
   "execution_count": 315,
   "metadata": {},
   "outputs": [
    {
     "data": {
      "text/plain": [
       "array([[ 46., 120.],\n",
       "       [ 42.,  71.],\n",
       "       [ 43.,  89.],\n",
       "       [ 36.,  80.]])"
      ]
     },
     "execution_count": 315,
     "metadata": {},
     "output_type": "execute_result"
    }
   ],
   "source": [
    "concatenate((x,y))"
   ]
  },
  {
   "cell_type": "code",
   "execution_count": 326,
   "metadata": {},
   "outputs": [
    {
     "data": {
      "text/plain": [
       "array([[ 46., 120.],\n",
       "       [ 42.,  71.],\n",
       "       [ 43.,  89.],\n",
       "       [ 36.,  80.]])"
      ]
     },
     "execution_count": 326,
     "metadata": {},
     "output_type": "execute_result"
    }
   ],
   "source": [
    "vstack((x,y))"
   ]
  },
  {
   "cell_type": "code",
   "execution_count": 325,
   "metadata": {},
   "outputs": [
    {
     "data": {
      "text/plain": [
       "array([[ 46., 120.,  43.,  89.],\n",
       "       [ 42.,  71.,  36.,  80.]])"
      ]
     },
     "execution_count": 325,
     "metadata": {},
     "output_type": "execute_result"
    }
   ],
   "source": [
    "hstack((x,y))"
   ]
  },
  {
   "cell_type": "code",
   "execution_count": 319,
   "metadata": {},
   "outputs": [
    {
     "data": {
      "text/plain": [
       "[array([[  0.,  41.,  80.],\n",
       "        [  1.,  42.,  97.],\n",
       "        [  2.,  46., 120.],\n",
       "        [  3.,  42.,  71.],\n",
       "        [  4.,  43.,  89.]]),\n",
       " array([[ 5., 36., 80.],\n",
       "        [ 6., 49., 97.],\n",
       "        [ 7., 39., 78.],\n",
       "        [ 8., 34., 77.],\n",
       "        [ 9., 39., 75.]])]"
      ]
     },
     "execution_count": 319,
     "metadata": {},
     "output_type": "execute_result"
    }
   ],
   "source": [
    "split(data[0:10,0:3],2)"
   ]
  },
  {
   "cell_type": "markdown",
   "metadata": {},
   "source": [
    "## Selecting data based upon conditions"
   ]
  },
  {
   "cell_type": "code",
   "execution_count": 80,
   "metadata": {},
   "outputs": [],
   "source": [
    "# mask will create a boolean array of True and False\n",
    "mask = data[:,1] > 47"
   ]
  },
  {
   "cell_type": "code",
   "execution_count": 75,
   "metadata": {},
   "outputs": [
    {
     "data": {
      "text/plain": [
       "array([[  6.,  49.,  97.,  nan,  nan],\n",
       "       [ 10.,  48., 103.,  nan,  nan],\n",
       "       [ 33.,  49., 123.,  nan,  nan],\n",
       "       [124.,  50., 104.,  nan,  nan]])"
      ]
     },
     "execution_count": 75,
     "metadata": {},
     "output_type": "execute_result"
    }
   ],
   "source": [
    "data[mask]"
   ]
  },
  {
   "cell_type": "code",
   "execution_count": 103,
   "metadata": {},
   "outputs": [],
   "source": [
    "# multiple conditions\n",
    "mask = (x1 > 42 )& (x2 < 77)"
   ]
  },
  {
   "cell_type": "code",
   "execution_count": 100,
   "metadata": {},
   "outputs": [
    {
     "data": {
      "text/plain": [
       "array([[ 23.,  43.,  75.,  nan,  nan],\n",
       "       [ 36.,  43.,  75.,  nan,  nan],\n",
       "       [ 55.,  43.,  76.,  nan,  nan],\n",
       "       [106.,  44.,  72.,  nan,  nan],\n",
       "       [111.,  43.,  72.,  nan,  nan]])"
      ]
     },
     "execution_count": 100,
     "metadata": {},
     "output_type": "execute_result"
    }
   ],
   "source": [
    "data[mask]"
   ]
  },
  {
   "cell_type": "code",
   "execution_count": 101,
   "metadata": {},
   "outputs": [
    {
     "data": {
      "text/plain": [
       "array([[ 23.,  43.,  75.,  nan,  nan],\n",
       "       [ 36.,  43.,  75.,  nan,  nan],\n",
       "       [ 55.,  43.,  76.,  nan,  nan],\n",
       "       [106.,  44.,  72.,  nan,  nan],\n",
       "       [111.,  43.,  72.,  nan,  nan]])"
      ]
     },
     "execution_count": 101,
     "metadata": {},
     "output_type": "execute_result"
    }
   ],
   "source": [
    "# using all methods for multiple conditions\n",
    "x1 = data[:,1]\n",
    "x2 = data[:,2]\n",
    "data[all([x1 > 42, x2 < 77], axis=0)]"
   ]
  },
  {
   "cell_type": "markdown",
   "metadata": {},
   "source": [
    "Where function can be used to create index with True value"
   ]
  },
  {
   "cell_type": "code",
   "execution_count": 85,
   "metadata": {},
   "outputs": [
    {
     "data": {
      "text/plain": [
       "(array([  6,  10,  33, 124]),)"
      ]
     },
     "execution_count": 85,
     "metadata": {},
     "output_type": "execute_result"
    }
   ],
   "source": [
    "indices = where(mask)\n",
    "indices"
   ]
  },
  {
   "cell_type": "code",
   "execution_count": 136,
   "metadata": {},
   "outputs": [
    {
     "data": {
      "text/plain": [
       "array([  0.,   0.,  46., 142.,  43.,   0.,  49.,   0., 154., 150.,  48.,\n",
       "       154.,   0.,   0.,   0.,   0.,   0.,  47.,   0.,   0.,  44.,   0.,\n",
       "        44.,  43.,   0., 146., 154.,   0.,  46.,   0.,   0.,   0.,   0.,\n",
       "        49.,  46.,   0.,  43.,   0.,   0.,   0.,   0.,   0.,   0.,   0.,\n",
       "         0., 148.,  44.,  43.,   0.,   0.,   0.,   0.,   0.,   0.,  47.,\n",
       "        43.,   0.,   0., 150.,   0.,  44.,   0.,   0.,   0.,   0.,   0.,\n",
       "       144.,   0.,  47.,   0.,  43.,   0.,   0.,   0.,  44.,   0.,   0.,\n",
       "         0.,  47., 150.,   0., 146.,   0.,  46.,   0.,   0.,   0.,   0.,\n",
       "         0.,   0.,   0.,   0.,   0.,   0.,   0.,   0.,   0., 150.,   0.,\n",
       "         0.,   0.,  44.,  44.,   0.,   0.,   0.,  44.,  45.,   0.,  43.,\n",
       "         0.,  43.,   0., 154.,   0.,   0.,  43.,  44.,   0., 154.,   0.,\n",
       "         0.,  45.,   0.,  50.,   0., 150.,   0.])"
      ]
     },
     "execution_count": 136,
     "metadata": {},
     "output_type": "execute_result"
    }
   ],
   "source": [
    "#select([data[:,1] >42, data[:,2] <= 77], [data[:,1]*1, data[:,2]*2])\n",
    "#Return an array drawn from elements in choicelist, depending on conditions."
   ]
  },
  {
   "cell_type": "markdown",
   "metadata": {},
   "source": [
    "### Basic mathmatical functions"
   ]
  },
  {
   "cell_type": "code",
   "execution_count": 106,
   "metadata": {},
   "outputs": [
    {
     "data": {
      "text/plain": [
       "4969.0"
      ]
     },
     "execution_count": 106,
     "metadata": {},
     "output_type": "execute_result"
    }
   ],
   "source": [
    "sum(data[:,1])\n"
   ]
  },
  {
   "cell_type": "code",
   "execution_count": 164,
   "metadata": {},
   "outputs": [
    {
     "name": "stdout",
     "output_type": "stream",
     "text": [
      "[1. 3.]\n",
      "[1. 4.]\n",
      "[2. 4.]\n",
      "[1. 3.]\n"
     ]
    }
   ],
   "source": [
    "print(fix ([1.2, 3.6]))\n",
    "print(round_([1.2, 3.6]))\n",
    "print(ceil ([1.2, 3.6]))\n",
    "print(floor([1.2, 3.6]))"
   ]
  },
  {
   "cell_type": "code",
   "execution_count": 166,
   "metadata": {},
   "outputs": [
    {
     "data": {
      "text/plain": [
       "array([ 1,  3,  6, 10])"
      ]
     },
     "execution_count": 166,
     "metadata": {},
     "output_type": "execute_result"
    }
   ],
   "source": [
    "cumsum([1,2,3,4])"
   ]
  },
  {
   "cell_type": "code",
   "execution_count": 170,
   "metadata": {},
   "outputs": [
    {
     "name": "stdout",
     "output_type": "stream",
     "text": [
      "[ 1  3  6 10]\n",
      "[ 1  2  6 24]\n"
     ]
    }
   ],
   "source": [
    "print(add.accumulate([1,2,3,4]))\n",
    "print(multiply.accumulate([1,2,3,4]))"
   ]
  },
  {
   "cell_type": "code",
   "execution_count": 105,
   "metadata": {},
   "outputs": [
    {
     "data": {
      "text/plain": [
       "array([36., 42., 43., 46., 49.])"
      ]
     },
     "execution_count": 105,
     "metadata": {},
     "output_type": "execute_result"
    }
   ],
   "source": [
    "sort(data[2:7,1])"
   ]
  },
  {
   "cell_type": "markdown",
   "metadata": {},
   "source": [
    "## Functions from module random"
   ]
  },
  {
   "cell_type": "markdown",
   "metadata": {},
   "source": [
    "Return random floats from the “continuous uniform” distribution over the interval.[0.0, 1.0)"
   ]
  },
  {
   "cell_type": "code",
   "execution_count": 186,
   "metadata": {},
   "outputs": [
    {
     "data": {
      "text/plain": [
       "array([0.93, 0.42, 0.95, 0.81, 0.09])"
      ]
     },
     "execution_count": 186,
     "metadata": {},
     "output_type": "execute_result"
    }
   ],
   "source": [
    "random(5)"
   ]
  },
  {
   "cell_type": "markdown",
   "metadata": {},
   "source": [
    "Return random integers between 5 and 10 as an array of size 2 by2"
   ]
  },
  {
   "cell_type": "code",
   "execution_count": 328,
   "metadata": {},
   "outputs": [
    {
     "data": {
      "text/plain": [
       "array([[6, 9],\n",
       "       [5, 6]])"
      ]
     },
     "execution_count": 328,
     "metadata": {},
     "output_type": "execute_result"
    }
   ],
   "source": [
    "import numpy as np\n",
    "np.random.randint(5,10, (2,2))"
   ]
  },
  {
   "cell_type": "code",
   "execution_count": 183,
   "metadata": {},
   "outputs": [
    {
     "data": {
      "text/plain": [
       "array([4, 3, 0, 1, 2])"
      ]
     },
     "execution_count": 183,
     "metadata": {},
     "output_type": "execute_result"
    }
   ],
   "source": [
    "from numpy.random import *\n",
    "permutation(5) "
   ]
  },
  {
   "cell_type": "code",
   "execution_count": 182,
   "metadata": {},
   "outputs": [
    {
     "name": "stdout",
     "output_type": "stream",
     "text": [
      "[4 1 3 5 6 2 7 9 8 0]\n"
     ]
    }
   ],
   "source": [
    "arr = np.arange(10)\n",
    "shuffle(arr)\n",
    "print(arr)"
   ]
  },
  {
   "cell_type": "code",
   "execution_count": 147,
   "metadata": {},
   "outputs": [
    {
     "name": "stdout",
     "output_type": "stream",
     "text": [
      "(0,) 1\n",
      "(1,) 0\n",
      "(2,) 3\n",
      "(3,) 2\n"
     ]
    }
   ],
   "source": [
    "a = permutation(4) \n",
    "for position,value in ndenumerate(a):\n",
    "    print (position,value) "
   ]
  },
  {
   "cell_type": "markdown",
   "metadata": {},
   "source": [
    "Draw samples from a binomial distribution with specified parameters, n trials and p probability of success "
   ]
  },
  {
   "cell_type": "code",
   "execution_count": 276,
   "metadata": {},
   "outputs": [
    {
     "data": {
      "text/plain": [
       "array([ 4,  5, 11,  4,  6])"
      ]
     },
     "execution_count": 276,
     "metadata": {},
     "output_type": "execute_result"
    }
   ],
   "source": [
    "#n= 5, p = 0.2\n",
    "binomial(30,0.2,size = 5)"
   ]
  },
  {
   "cell_type": "markdown",
   "metadata": {},
   "source": [
    "Draw samples from normal distribution with specified mean and standard deviation"
   ]
  },
  {
   "cell_type": "code",
   "execution_count": 279,
   "metadata": {},
   "outputs": [
    {
     "data": {
      "text/plain": [
       "array([2.03, 1.93, 2.03, 2.06, 2.  ])"
      ]
     },
     "execution_count": 279,
     "metadata": {},
     "output_type": "execute_result"
    }
   ],
   "source": [
    "# mean = 2, std = 0.2\n",
    "normal(2, .2, size = 5)"
   ]
  },
  {
   "cell_type": "markdown",
   "metadata": {},
   "source": [
    "## Matrix manipulation  functions\n",
    "\n"
   ]
  },
  {
   "cell_type": "code",
   "execution_count": 300,
   "metadata": {},
   "outputs": [
    {
     "name": "stdout",
     "output_type": "stream",
     "text": [
      "[[1 1 4 2]\n",
      " [4 3 4 1]]\n",
      "[[3 1 4 3]\n",
      " [1 2 4 1]]\n"
     ]
    }
   ],
   "source": [
    "N = np.random.randint(5, size=(2, 4))\n",
    "print(M)\n",
    "print(N)"
   ]
  },
  {
   "cell_type": "code",
   "execution_count": 291,
   "metadata": {},
   "outputs": [
    {
     "data": {
      "text/plain": [
       "array([[1, 4],\n",
       "       [1, 3],\n",
       "       [4, 4],\n",
       "       [2, 1]])"
      ]
     },
     "execution_count": 291,
     "metadata": {},
     "output_type": "execute_result"
    }
   ],
   "source": [
    "# Transpose of a matrix\n",
    "M.T"
   ]
  },
  {
   "cell_type": "code",
   "execution_count": 303,
   "metadata": {},
   "outputs": [
    {
     "data": {
      "text/plain": [
       "array([[ 0.36, -0.09],\n",
       "       [-0.09,  0.27]])"
      ]
     },
     "execution_count": 303,
     "metadata": {},
     "output_type": "execute_result"
    }
   ],
   "source": [
    "# inverse of a matrix\n",
    "np.linalg.inv(np.random.randint(5, size=(2, 2)))"
   ]
  },
  {
   "cell_type": "markdown",
   "metadata": {},
   "source": [
    "Element-wise array-array operations: the default behaviour is element-wise operations:"
   ]
  },
  {
   "cell_type": "code",
   "execution_count": 305,
   "metadata": {},
   "outputs": [
    {
     "data": {
      "text/plain": [
       "array([[ 3,  1, 16,  6],\n",
       "       [ 4,  6, 16,  1]])"
      ]
     },
     "execution_count": 305,
     "metadata": {},
     "output_type": "execute_result"
    }
   ],
   "source": [
    "M*N"
   ]
  },
  {
   "cell_type": "code",
   "execution_count": 306,
   "metadata": {},
   "outputs": [
    {
     "data": {
      "text/plain": [
       "array([[4, 2, 8, 5],\n",
       "       [5, 5, 8, 2]])"
      ]
     },
     "execution_count": 306,
     "metadata": {},
     "output_type": "execute_result"
    }
   ],
   "source": [
    "M + N"
   ]
  },
  {
   "cell_type": "markdown",
   "metadata": {},
   "source": [
    "Dot Product"
   ]
  },
  {
   "cell_type": "code",
   "execution_count": 308,
   "metadata": {},
   "outputs": [
    {
     "data": {
      "text/plain": [
       "array([[26, 21],\n",
       "       [34, 27]])"
      ]
     },
     "execution_count": 308,
     "metadata": {},
     "output_type": "execute_result"
    }
   ],
   "source": [
    "dot(M,N.T)"
   ]
  }
 ],
 "metadata": {
  "kernelspec": {
   "display_name": "Python 3",
   "language": "python",
   "name": "python3"
  },
  "language_info": {
   "codemirror_mode": {
    "name": "ipython",
    "version": 3
   },
   "file_extension": ".py",
   "mimetype": "text/x-python",
   "name": "python",
   "nbconvert_exporter": "python",
   "pygments_lexer": "ipython3",
   "version": "3.8.1"
  }
 },
 "nbformat": 4,
 "nbformat_minor": 4
}
