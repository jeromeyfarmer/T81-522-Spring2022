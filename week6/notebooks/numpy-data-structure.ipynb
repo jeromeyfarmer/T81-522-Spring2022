{
 "cells": [
  {
   "cell_type": "markdown",
   "metadata": {},
   "source": [
    "## Why Numpy\n",
    "\n",
    "In [week2]() we learnt the built-in data structure of container types in Python: lists, dictionaries, sets, and tuples. Specifically, we learnt that:\n",
    "\n",
    "- List are mutable types and can contain values with various data types including another list (nested list).\n",
    "\n",
    "It means that if we want to represent a data object for matrix types (rows and columns), we can simply make use of the nested lists for the purpose.\n",
    "\n",
    "However,\n",
    "- Lists don’t support mathematical operations like element wise addition and multiplication.\n",
    "\n",
    "- Lists can contain objects of differing types, which means that every element in a list needs to be tracked for its type during computation that can seriously deteriorate code execution speed.\n",
    "\n",
    "`Numpy` is a Python library developed for a faster and efficient numerical and scientific computation in Python. It provides a data structure optimized for high-performance vector and matrix computation. which significantly optimizes computation with high performance and enhanced speed of execution.\n",
    "\n",
    "<ul><li>\n",
    "Numpy provides faster way of performing numerical computation.\n",
    "\n",
    "<ul> <li> As numpy is optimized for matrix and algebraic operations and is implemented in C, it provides better speed performance compared to pure python implementation of such operations.\n",
    "</ul>\n",
    "<li>It integrates very well with other popular libraries such as Scipy, matplotlib, and pandas.\n",
    " \n",
    "<li>It has a whole range of optimized functions such as linear algebra operations built-in.\n",
    "\n"
   ]
  },
  {
   "cell_type": "markdown",
   "metadata": {},
   "source": [
    "## Numpy data structure"
   ]
  },
  {
   "cell_type": "markdown",
   "metadata": {},
   "source": [
    "What is a numpy array?\n",
    "\n",
    "- A numpy array (like a grid) is a multidimensional container of homogenous values, i.e., all of the elements must be the same type. Every array has a shape, a tuple indicating the size of each dimension, and a dtype, an object describing the data type of the array:\n",
    "- Technically,\n",
    "It is an object that points to a block of memory, keeps track of the types, dimensions, length, and strides (the number of bytes to step in each dimension when traversing the array). Read [here](https://www.jessicayung.com/numpy-arrays-memory-and-strides/) for more.  \n",
    "\n",
    "\n"
   ]
  },
  {
   "cell_type": "markdown",
   "metadata": {},
   "source": [
    "### How to create a numpy array?"
   ]
  },
  {
   "cell_type": "markdown",
   "metadata": {},
   "source": [
    "\n",
    "### From sequence like data\n",
    "The easiest way of creating an array is calling array function on a sequence like data such as list.\n"
   ]
  },
  {
   "cell_type": "code",
   "execution_count": 1,
   "metadata": {},
   "outputs": [
    {
     "name": "stdout",
     "output_type": "stream",
     "text": [
      "int64\n"
     ]
    }
   ],
   "source": [
    "import numpy as np\n",
    "l = [[2,3,5]]\n",
    "arr_1 = np.array(l)\n",
    "print (arr_1.dtype)"
   ]
  },
  {
   "cell_type": "markdown",
   "metadata": {},
   "source": [
    "Optionally, data types can be specified while creating an array.\n"
   ]
  },
  {
   "cell_type": "code",
   "execution_count": 2,
   "metadata": {},
   "outputs": [],
   "source": [
    "lst = [2.0,3,5]\n",
    "arr_1 = np.array(lst, np.int16)\n"
   ]
  },
  {
   "cell_type": "markdown",
   "metadata": {},
   "source": [
    " Numpy array is statically typed i.e. type is either implicitely or explicitely determined when the array is created."
   ]
  },
  {
   "cell_type": "markdown",
   "metadata": {},
   "source": [
    "A nested list can be passed in order to create a multidimensional array."
   ]
  },
  {
   "cell_type": "code",
   "execution_count": 3,
   "metadata": {},
   "outputs": [],
   "source": [
    "lst = [[2,3,5],[4,5,6]]\n",
    "arr_2 = np.array(lst, dtype = np.float32)\n"
   ]
  },
  {
   "cell_type": "code",
   "execution_count": 4,
   "metadata": {},
   "outputs": [
    {
     "name": "stdout",
     "output_type": "stream",
     "text": [
      "int16 float32\n"
     ]
    }
   ],
   "source": [
    "#Use dtype attribute to find the types of the array.\n",
    "print(arr_1.dtype, arr_2.dtype)"
   ]
  },
  {
   "cell_type": "code",
   "execution_count": 5,
   "metadata": {},
   "outputs": [
    {
     "name": "stdout",
     "output_type": "stream",
     "text": [
      "2 3\n"
     ]
    }
   ],
   "source": [
    "#Use shape() method to determine the shape of the array.\n",
    "rows, cols = arr_2.shape\n",
    "print (rows,cols)"
   ]
  },
  {
   "cell_type": "markdown",
   "metadata": {},
   "source": [
    "### Using other functions\n",
    "\n",
    "Numpy also provides many other functions to create arrays:\n"
   ]
  },
  {
   "cell_type": "code",
   "execution_count": 6,
   "metadata": {},
   "outputs": [
    {
     "name": "stdout",
     "output_type": "stream",
     "text": [
      "[[0. 0. 0.]\n",
      " [0. 0. 0.]\n",
      " [0. 0. 0.]]\n"
     ]
    }
   ],
   "source": [
    "# Create an array of all zeros\n",
    "arr_zeros = np.zeros((3,3))   \n",
    "print(arr_zeros)"
   ]
  },
  {
   "cell_type": "code",
   "execution_count": 7,
   "metadata": {},
   "outputs": [
    {
     "name": "stdout",
     "output_type": "stream",
     "text": [
      "[[1. 1. 1.]\n",
      " [1. 1. 1.]\n",
      " [1. 1. 1.]]\n"
     ]
    }
   ],
   "source": [
    "# Create an array of all ones\n",
    "arr_ones = np.ones((3,3))   \n",
    "print(arr_ones)"
   ]
  },
  {
   "cell_type": "code",
   "execution_count": 8,
   "metadata": {},
   "outputs": [
    {
     "name": "stdout",
     "output_type": "stream",
     "text": [
      "[[0.8841099  0.29462162 0.34423853]\n",
      " [0.95709502 0.12864758 0.86532073]\n",
      " [0.31898119 0.85862457 0.0020604 ]]\n"
     ]
    }
   ],
   "source": [
    "# Create an array with random values\n",
    "arr_rand = np.random.random((3,3))  \n",
    "print(arr_rand )"
   ]
  },
  {
   "cell_type": "code",
   "execution_count": 9,
   "metadata": {},
   "outputs": [
    {
     "data": {
      "text/plain": [
       "array([0, 1, 2, 3, 4, 5, 6, 7, 8, 9])"
      ]
     },
     "execution_count": 9,
     "metadata": {},
     "output_type": "execute_result"
    }
   ],
   "source": [
    "# create with arange using start, stop, and step arguments\n",
    "\n",
    "np.arange(0, 10, 1) \n"
   ]
  },
  {
   "cell_type": "code",
   "execution_count": 10,
   "metadata": {},
   "outputs": [
    {
     "data": {
      "text/plain": [
       "array([0.        , 0.55555556, 1.11111111, 1.66666667, 2.22222222,\n",
       "       2.77777778, 3.33333333, 3.88888889, 4.44444444, 5.        ])"
      ]
     },
     "execution_count": 10,
     "metadata": {},
     "output_type": "execute_result"
    }
   ],
   "source": [
    "# using linspace with start, end, and number of elements arguements\n",
    "np.linspace(0, 5, 10)"
   ]
  },
  {
   "cell_type": "markdown",
   "metadata": {},
   "source": [
    "### From text files\n",
    "\n",
    "In the previous week, we learnt how to read data from a text file into Python. Similarly, text files can also be read to create Numpy arrays using genfromtxt function."
   ]
  },
  {
   "cell_type": "code",
   "execution_count": 11,
   "metadata": {},
   "outputs": [],
   "source": [
    "CSV_FILE = \"/home/asimbanskota/t81_577_data_science/weekly_materials/week5/files/city.csv\""
   ]
  },
  {
   "cell_type": "code",
   "execution_count": 12,
   "metadata": {},
   "outputs": [
    {
     "name": "stdout",
     "output_type": "stream",
     "text": [
      "[[  0.  41.  80.  nan  nan]\n",
      " [  1.  42.  97.  nan  nan]\n",
      " [  2.  46. 120.  nan  nan]\n",
      " [  3.  42.  71.  nan  nan]]\n"
     ]
    }
   ],
   "source": [
    "from numpy import genfromtxt\n",
    "data = genfromtxt(CSV_FILE,delimiter=',', skip_header = 1)\n",
    "print(data[0:4:])"
   ]
  },
  {
   "cell_type": "markdown",
   "metadata": {},
   "source": [
    "As the fourth and fifth columns of the table had string data types, they were imported as NaN (not a number) values. \n",
    "\n"
   ]
  },
  {
   "cell_type": "markdown",
   "metadata": {},
   "source": [
    "`savetxt` method can be used to write a numpy array into a file"
   ]
  },
  {
   "cell_type": "code",
   "execution_count": 13,
   "metadata": {},
   "outputs": [],
   "source": [
    "from numpy import savetxt\n",
    "CSV_WRITE_FILE = \"/home/asimbanskota/t81_577_data_science/weekly_materials/week6/files/city_write.csv\"\n",
    "savetxt(CSV_WRITE_FILE, data)"
   ]
  },
  {
   "cell_type": "markdown",
   "metadata": {},
   "source": [
    "### Indexing Array\n",
    "Individual elements in an array can be indexed and sliced using indices inside a square bracket"
   ]
  },
  {
   "cell_type": "code",
   "execution_count": 14,
   "metadata": {},
   "outputs": [
    {
     "data": {
      "text/plain": [
       "71.0"
      ]
     },
     "execution_count": 14,
     "metadata": {},
     "output_type": "execute_result"
    }
   ],
   "source": [
    "# Access the value of a 4th row and 3rd column in the data array\n",
    "data[3,2]"
   ]
  },
  {
   "cell_type": "code",
   "execution_count": 15,
   "metadata": {},
   "outputs": [],
   "source": [
    "#Access all columns but only rows from third to fivth columns"
   ]
  },
  {
   "cell_type": "code",
   "execution_count": 16,
   "metadata": {},
   "outputs": [
    {
     "name": "stdout",
     "output_type": "stream",
     "text": [
      "[[  2.  46. 120.  nan  nan]\n",
      " [  3.  42.  71.  nan  nan]\n",
      " [  4.  43.  89.  nan  nan]]\n"
     ]
    }
   ],
   "source": [
    "data_sub = data[2:5:]\n",
    "print(data_sub)"
   ]
  },
  {
   "cell_type": "markdown",
   "metadata": {},
   "source": [
    "**IMP**: Slicing an array using index doesn't create a new array. It will just create a reference that points to the specific portion of the original array. To check whether that is the case, use the base attribute of the array."
   ]
  },
  {
   "cell_type": "code",
   "execution_count": 17,
   "metadata": {},
   "outputs": [
    {
     "data": {
      "text/plain": [
       "True"
      ]
     },
     "execution_count": 17,
     "metadata": {},
     "output_type": "execute_result"
    }
   ],
   "source": [
    "data_sub.base is data"
   ]
  },
  {
   "cell_type": "markdown",
   "metadata": {},
   "source": [
    "If the value of the sliced array is changed, the original array also get altered."
   ]
  },
  {
   "cell_type": "code",
   "execution_count": 18,
   "metadata": {},
   "outputs": [
    {
     "name": "stdout",
     "output_type": "stream",
     "text": [
      "[[  2.  nan 120.  nan  nan]\n",
      " [  3.  42.  71.  nan  nan]\n",
      " [  4.  43.  89.  nan  nan]]\n"
     ]
    }
   ],
   "source": [
    "import numpy as np\n",
    "data_sub[0,1] = np.nan\n",
    "print(data[2:5:])"
   ]
  },
  {
   "cell_type": "markdown",
   "metadata": {},
   "source": [
    "To create a separate array, use either `copy()` method or use `fancy indexing`"
   ]
  },
  {
   "cell_type": "code",
   "execution_count": 19,
   "metadata": {},
   "outputs": [
    {
     "data": {
      "text/plain": [
       "False"
      ]
     },
     "execution_count": 19,
     "metadata": {},
     "output_type": "execute_result"
    }
   ],
   "source": [
    "data_sub = data[2:5:].copy()\n",
    "data_sub.base is data"
   ]
  },
  {
   "cell_type": "markdown",
   "metadata": {},
   "source": [
    "### Fancy Indexing\n",
    "Fancy indexing is like the simple indexing we've already seen, but we pass arrays or list of indices in place of single scalars. Note the base attribute in the new array is not the original array now, that means altering the values of the subset array would not alter the original array."
   ]
  },
  {
   "cell_type": "code",
   "execution_count": 20,
   "metadata": {},
   "outputs": [
    {
     "data": {
      "text/plain": [
       "False"
      ]
     },
     "execution_count": 20,
     "metadata": {},
     "output_type": "execute_result"
    }
   ],
   "source": [
    "row_ind = [2,3,4]\n",
    "col_ind = [0,1,2]\n",
    "data_sub = data[row_ind,col_ind]\n",
    "data_sub.base is data"
   ]
  },
  {
   "cell_type": "code",
   "execution_count": 21,
   "metadata": {},
   "outputs": [
    {
     "data": {
      "text/plain": [
       "False"
      ]
     },
     "execution_count": 21,
     "metadata": {},
     "output_type": "execute_result"
    }
   ],
   "source": [
    "data_sub = data[2:5, range(0,5)]\n",
    "data_sub.base is data"
   ]
  },
  {
   "cell_type": "markdown",
   "metadata": {},
   "source": [
    "One common use of fancy indexing in data science is to split data randomly into training and validatation dataset"
   ]
  },
  {
   "cell_type": "code",
   "execution_count": 22,
   "metadata": {},
   "outputs": [],
   "source": [
    "from numpy.random import randint\n",
    "row, col = data.shape\n",
    "# 20 percent as validataion data\n",
    "\n",
    "val_row_indices  = np.random.choice(range(row), int(row* 0.2), replace=False).tolist() \n",
    "train_row_indices = list(set(range(row)) - set(val_row_indices))\n",
    "val_data = data[val_row_indices, :]\n",
    "train_data = data[train_row_indices, :]"
   ]
  },
  {
   "cell_type": "code",
   "execution_count": 23,
   "metadata": {},
   "outputs": [
    {
     "name": "stdout",
     "output_type": "stream",
     "text": [
      "(103, 5)\n",
      "(25, 5)\n",
      "(128, 5)\n"
     ]
    }
   ],
   "source": [
    "print(train_data.shape)\n",
    "print(val_data.shape)\n",
    "print(data.shape)"
   ]
  },
  {
   "cell_type": "code",
   "execution_count": null,
   "metadata": {},
   "outputs": [],
   "source": []
  }
 ],
 "metadata": {
  "kernelspec": {
   "display_name": "Python 3",
   "language": "python",
   "name": "python3"
  },
  "language_info": {
   "codemirror_mode": {
    "name": "ipython",
    "version": 3
   },
   "file_extension": ".py",
   "mimetype": "text/x-python",
   "name": "python",
   "nbconvert_exporter": "python",
   "pygments_lexer": "ipython3",
   "version": "3.8.1"
  }
 },
 "nbformat": 4,
 "nbformat_minor": 4
}
