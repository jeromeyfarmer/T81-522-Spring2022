{
 "cells": [
  {
   "cell_type": "markdown",
   "metadata": {},
   "source": [
    "### What is Linting?\n",
    "\n",
    "- Detecting and fixing poor syntax and style problems that do not confirm to a coding standard\n",
    "\n",
    "- A number of python packages provide tools for lynting. They can be broadly categorized into two:\n",
    "\n",
    "<ul>\n",
    "    1.  Logical Lint \n",
    "<ul> \n",
    "- Code errors<br>\n",
    "- Code with potentially unintended results<br>\n",
    "- Dangerous code patterns<br>\n",
    "</ul>\n",
    "2. Stylistic Lint\n",
    "<ul>\n",
    "Code not conforming to defined conventions\n",
    "</ul>\n",
    "</ul>\n",
    "\n",
    "Visit [Real Python](https://realpython.com/python-code-quality/) for the complete list of python linters and read more about linting in python.\n"
   ]
  },
  {
   "cell_type": "markdown",
   "metadata": {},
   "source": [
    "### Example of linting with `pylint` and `pycodestyle`"
   ]
  },
  {
   "cell_type": "code",
   "execution_count": 14,
   "metadata": {},
   "outputs": [],
   "source": [
    "def isPrime(number):\n",
    "    if number > 1:\n",
    "        for i in range(2, number):\n",
    "            if (number % i) == 0:\n",
    "                return False\n",
    "                break\n",
    "        else:\n",
    "            return True\n",
    "    else:\n",
    "        return True\n",
    "    "
   ]
  },
  {
   "cell_type": "markdown",
   "metadata": {},
   "source": [
    "I saved the above python function as a script (`is_prime.py`) in the same folder as this notebook. Rum the following command here or in the terminal for linting the script with `pylint`."
   ]
  },
  {
   "cell_type": "code",
   "execution_count": 15,
   "metadata": {},
   "outputs": [
    {
     "name": "stdout",
     "output_type": "stream",
     "text": [
      "************* Module is_prime\n",
      "is_prime.py:1:0: C0114: Missing module docstring (missing-module-docstring)\n",
      "is_prime.py:1:0: C0103: Function name \"isPrime\" doesn't conform to snake_case naming style (invalid-name)\n",
      "is_prime.py:1:0: C0116: Missing function or method docstring (missing-function-docstring)\n",
      "is_prime.py:6:16: W0101: Unreachable code (unreachable)\n",
      "\n",
      "------------------------------------------------------------------\n",
      "Your code has been rated at 5.00/10 (previous run: 6.25/10, -1.25)\n",
      "\n"
     ]
    }
   ],
   "source": [
    "!pylint is_prime.py"
   ]
  },
  {
   "cell_type": "markdown",
   "metadata": {},
   "source": [
    "#### Pylint codes:\n",
    "\n",
    ">**R**: Refactor \n",
    "\n",
    ">**W**: Warning for stylistic problems\n",
    "\n",
    ">**E**: Error for important programming issues \n",
    "\n",
    ">**F**: Fatal for errors which prevented further processing\n",
    "\n",
    ">**C**: Coding standard violation\n",
    "\n"
   ]
  },
  {
   "cell_type": "markdown",
   "metadata": {},
   "source": [
    "Jupyter Notebook doesn't come with inbuilt linting tools for python. While it is the best-practice to do any major code developement outside notebook in an IDE and import the codes in notebook for exploration, we can use pycodestyle magic command for code linting when necessary. Pycodestyle magic command lets you check your code against the PEP8 style guide. For that, we need to  install `pycodestyle`, `pycodestyle_magic` and `flake8` packages"
   ]
  },
  {
   "cell_type": "markdown",
   "metadata": {},
   "source": [
    "Run the following command to loaf `pycodestyle_magic` after successful installation:"
   ]
  },
  {
   "cell_type": "code",
   "execution_count": 17,
   "metadata": {},
   "outputs": [
    {
     "name": "stdout",
     "output_type": "stream",
     "text": [
      "The pycodestyle_magic extension is already loaded. To reload it, use:\n",
      "  %reload_ext pycodestyle_magic\n"
     ]
    }
   ],
   "source": [
    "%load_ext pycodestyle_magic"
   ]
  },
  {
   "cell_type": "markdown",
   "metadata": {},
   "source": [
    "Use pycodestyle in a cell in which you want to investigate your code against PEP8 standards."
   ]
  },
  {
   "cell_type": "code",
   "execution_count": 25,
   "metadata": {},
   "outputs": [
    {
     "name": "stderr",
     "output_type": "stream",
     "text": [
      "3:1: W293 blank line contains whitespace\n",
      "12:6: E111 indentation is not a multiple of four\n",
      "13:1: W391 blank line at end of file\n"
     ]
    }
   ],
   "source": [
    "%%pycodestyle\n",
    "def isPrime(number):\n",
    "    if number > 1:\n",
    "        for i in range(2, number):\n",
    "            if (number % i) == 0:\n",
    "                return False\n",
    "                break\n",
    "        else:\n",
    "            return True\n",
    "    else:\n",
    "     return True"
   ]
  },
  {
   "cell_type": "markdown",
   "metadata": {},
   "source": [
    "### Pycodestyle identified code style issue related to indentation and white space, but it didn't see any problem with the function name not being in the snake format as before. It also doesn't care about the absence of function docstring."
   ]
  }
 ],
 "metadata": {
  "kernelspec": {
   "display_name": "Python 3",
   "language": "python",
   "name": "python3"
  },
  "language_info": {
   "codemirror_mode": {
    "name": "ipython",
    "version": 3
   },
   "file_extension": ".py",
   "mimetype": "text/x-python",
   "name": "python",
   "nbconvert_exporter": "python",
   "pygments_lexer": "ipython3",
   "version": "3.7.4"
  }
 },
 "nbformat": 4,
 "nbformat_minor": 2
}
