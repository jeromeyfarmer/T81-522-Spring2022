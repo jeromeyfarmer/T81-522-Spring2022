{
 "cells": [
  {
   "cell_type": "markdown",
   "metadata": {},
   "source": [
    "## Parsing json response contents \n",
    "\n",
    "In the last lesson we learnt, how to get data from REST API using requests library. In this lesson, we will learn how to parse the JSON reponse from an API."
   ]
  },
  {
   "cell_type": "code",
   "execution_count": 112,
   "metadata": {},
   "outputs": [],
   "source": [
    "import os\n",
    "import requests \n",
    "APPID = os.getenv(\"APPID\")\n",
    "params = {'q': 'Saint Louis', 'APPID': APPID}\n",
    "response = requests.get(\"https://api.openweathermap.org/data/2.5/weather?\", params=params)"
   ]
  },
  {
   "cell_type": "markdown",
   "metadata": {},
   "source": [
    "As we learned previously, the Openweathermap API returns the response content in JSON format, which is just a kind of text format in whihc the data is recorded as keys and values. For Python users, JSON formatted data looks awefully similar to dictionary data structure. The response object has a method named `json`, which decodes the text of a JSON file into a Python dictionary object."
   ]
  },
  {
   "cell_type": "code",
   "execution_count": 113,
   "metadata": {},
   "outputs": [],
   "source": [
    "resp = response.json()"
   ]
  },
  {
   "cell_type": "code",
   "execution_count": 115,
   "metadata": {},
   "outputs": [
    {
     "name": "stdout",
     "output_type": "stream",
     "text": [
      "<class 'dict'>\n",
      "{'coord': {'lon': -90.2, 'lat': 38.63}, 'weather': [{'id': 300, 'main': 'Drizzle', 'description': 'light intensity drizzle', 'icon': '09n'}, {'id': 500, 'main': 'Rain', 'description': 'light rain', 'icon': '10n'}, {'id': 701, 'main': 'Mist', 'description': 'mist', 'icon': '50n'}], 'base': 'stations', 'main': {'temp': 274.67, 'feels_like': 270.24, 'temp_min': 273.15, 'temp_max': 275.93, 'pressure': 1009, 'humidity': 93}, 'visibility': 8047, 'wind': {'speed': 3.6, 'deg': 10}, 'rain': {'1h': 0.42}, 'clouds': {'all': 90}, 'dt': 1581560035, 'sys': {'type': 1, 'id': 5931, 'country': 'US', 'sunrise': 1581512154, 'sunset': 1581550461}, 'timezone': -21600, 'id': 4407066, 'name': 'St. Louis', 'cod': 200}\n"
     ]
    }
   ],
   "source": [
    "print(type(resp))\n",
    "print(resp)"
   ]
  },
  {
   "cell_type": "code",
   "execution_count": 116,
   "metadata": {},
   "outputs": [
    {
     "data": {
      "text/plain": [
       "{'coord': {'lon': -90.2, 'lat': 38.63},\n",
       " 'weather': [{'id': 300,\n",
       "   'main': 'Drizzle',\n",
       "   'description': 'light intensity drizzle',\n",
       "   'icon': '09n'},\n",
       "  {'id': 500, 'main': 'Rain', 'description': 'light rain', 'icon': '10n'},\n",
       "  {'id': 701, 'main': 'Mist', 'description': 'mist', 'icon': '50n'}],\n",
       " 'base': 'stations',\n",
       " 'main': {'temp': 274.67,\n",
       "  'feels_like': 270.24,\n",
       "  'temp_min': 273.15,\n",
       "  'temp_max': 275.93,\n",
       "  'pressure': 1009,\n",
       "  'humidity': 93},\n",
       " 'visibility': 8047,\n",
       " 'wind': {'speed': 3.6, 'deg': 10},\n",
       " 'rain': {'1h': 0.42},\n",
       " 'clouds': {'all': 90},\n",
       " 'dt': 1581560035,\n",
       " 'sys': {'type': 1,\n",
       "  'id': 5931,\n",
       "  'country': 'US',\n",
       "  'sunrise': 1581512154,\n",
       "  'sunset': 1581550461},\n",
       " 'timezone': -21600,\n",
       " 'id': 4407066,\n",
       " 'name': 'St. Louis',\n",
       " 'cod': 200}"
      ]
     },
     "execution_count": 116,
     "metadata": {},
     "output_type": "execute_result"
    }
   ],
   "source": [
    "resp"
   ]
  },
  {
   "cell_type": "markdown",
   "metadata": {},
   "source": [
    "Take a look at the content: JSON supports all common data types in python like strings, numbers, list, and dictionaries"
   ]
  },
  {
   "cell_type": "code",
   "execution_count": 111,
   "metadata": {},
   "outputs": [
    {
     "name": "stdout",
     "output_type": "stream",
     "text": [
      "{'lon': -90.2, 'lat': 38.63}\n"
     ]
    }
   ],
   "source": [
    "print ( resp['coord'])"
   ]
  },
  {
   "cell_type": "code",
   "execution_count": 81,
   "metadata": {},
   "outputs": [
    {
     "name": "stdout",
     "output_type": "stream",
     "text": [
      "min_temp: 274.82\n",
      "max_temp: 278.15\n"
     ]
    }
   ],
   "source": [
    "print ('min_temp: {}'.format(resp['main']['temp_min']))\n",
    "print ('max_temp: {}'.format(resp['main']['temp_max']))"
   ]
  },
  {
   "cell_type": "code",
   "execution_count": 82,
   "metadata": {},
   "outputs": [
    {
     "name": "stdout",
     "output_type": "stream",
     "text": [
      "max_temp: clear sky\n"
     ]
    }
   ],
   "source": [
    "print ('max_temp: {}'.format(resp['weather'][0]['description']))"
   ]
  },
  {
   "cell_type": "markdown",
   "metadata": {},
   "source": [
    "### Parsing reponse contents with multiple counts"
   ]
  },
  {
   "cell_type": "code",
   "execution_count": 117,
   "metadata": {},
   "outputs": [],
   "source": [
    "params = {'bbox':'12,32,15,37,10' ,'units':'metric', 'APPID': APPID}\n",
    "\n",
    "response = requests.get(\"http://api.openweathermap.org/data/2.5/box/city?\", params=params)"
   ]
  },
  {
   "cell_type": "code",
   "execution_count": 118,
   "metadata": {},
   "outputs": [],
   "source": [
    "resp = response.json()"
   ]
  },
  {
   "cell_type": "code",
   "execution_count": 119,
   "metadata": {},
   "outputs": [
    {
     "name": "stdout",
     "output_type": "stream",
     "text": [
      "4\n"
     ]
    }
   ],
   "source": [
    "print (len(resp))"
   ]
  },
  {
   "cell_type": "code",
   "execution_count": 120,
   "metadata": {},
   "outputs": [
    {
     "data": {
      "text/plain": [
       "{'cod': 200,\n",
       " 'calctime': 0.003426675,\n",
       " 'cnt': 15,\n",
       " 'list': [{'id': 2563191,\n",
       "   'dt': 1581559763,\n",
       "   'name': 'Birkirkara',\n",
       "   'coord': {'Lon': 14.46, 'Lat': 35.9},\n",
       "   'main': {'temp': 11.88,\n",
       "    'feels_like': 10.32,\n",
       "    'temp_min': 11,\n",
       "    'temp_max': 12.78,\n",
       "    'pressure': 1022,\n",
       "    'humidity': 93},\n",
       "   'visibility': 10000,\n",
       "   'wind': {'speed': 2.6, 'deg': 300},\n",
       "   'rain': None,\n",
       "   'snow': None,\n",
       "   'clouds': {'today': 6},\n",
       "   'weather': [{'id': 800,\n",
       "     'main': 'Clear',\n",
       "     'description': 'clear sky',\n",
       "     'icon': '01n'}]},\n",
       "  {'id': 2210247,\n",
       "   'dt': 1581559761,\n",
       "   'name': 'Tripoli',\n",
       "   'coord': {'Lon': 13.19, 'Lat': 32.88},\n",
       "   'main': {'temp': 16.19,\n",
       "    'feels_like': 16.64,\n",
       "    'temp_min': 16.19,\n",
       "    'temp_max': 16.19,\n",
       "    'pressure': 1023,\n",
       "    'sea_level': 1023,\n",
       "    'grnd_level': 1023,\n",
       "    'humidity': 76},\n",
       "   'wind': {'speed': 0.22, 'deg': 331},\n",
       "   'rain': None,\n",
       "   'snow': None,\n",
       "   'clouds': {'today': 67},\n",
       "   'weather': [{'id': 803,\n",
       "     'main': 'Clouds',\n",
       "     'description': 'broken clouds',\n",
       "     'icon': '04n'}]},\n",
       "  {'id': 2216885,\n",
       "   'dt': 1581559761,\n",
       "   'name': 'Zawiya',\n",
       "   'coord': {'Lon': 12.73, 'Lat': 32.75},\n",
       "   'main': {'temp': 13.09,\n",
       "    'feels_like': 9.51,\n",
       "    'temp_min': 13.09,\n",
       "    'temp_max': 13.09,\n",
       "    'pressure': 1023,\n",
       "    'sea_level': 1023,\n",
       "    'grnd_level': 1010,\n",
       "    'humidity': 41},\n",
       "   'wind': {'speed': 2.31, 'deg': 80},\n",
       "   'rain': None,\n",
       "   'snow': None,\n",
       "   'clouds': {'today': 98},\n",
       "   'weather': [{'id': 804,\n",
       "     'main': 'Clouds',\n",
       "     'description': 'overcast clouds',\n",
       "     'icon': '04n'}]},\n",
       "  {'id': 2212771,\n",
       "   'dt': 1581559761,\n",
       "   'name': 'Sabratah',\n",
       "   'coord': {'Lon': 12.49, 'Lat': 32.79},\n",
       "   'main': {'temp': 16.22,\n",
       "    'feels_like': 16.19,\n",
       "    'temp_min': 16.22,\n",
       "    'temp_max': 16.22,\n",
       "    'pressure': 1023,\n",
       "    'sea_level': 1023,\n",
       "    'grnd_level': 1023,\n",
       "    'humidity': 75},\n",
       "   'wind': {'speed': 0.83, 'deg': 97},\n",
       "   'rain': None,\n",
       "   'snow': None,\n",
       "   'clouds': {'today': 100},\n",
       "   'weather': [{'id': 804,\n",
       "     'main': 'Clouds',\n",
       "     'description': 'overcast clouds',\n",
       "     'icon': '04n'}]},\n",
       "  {'id': 2215163,\n",
       "   'dt': 1581559761,\n",
       "   'name': 'Masallatah',\n",
       "   'coord': {'Lon': 14, 'Lat': 32.62},\n",
       "   'main': {'temp': 12.46,\n",
       "    'feels_like': 9.3,\n",
       "    'temp_min': 12.46,\n",
       "    'temp_max': 12.46,\n",
       "    'pressure': 1023,\n",
       "    'sea_level': 1023,\n",
       "    'grnd_level': 991,\n",
       "    'humidity': 54},\n",
       "   'wind': {'speed': 2.48, 'deg': 309},\n",
       "   'rain': None,\n",
       "   'snow': None,\n",
       "   'clouds': {'today': 51},\n",
       "   'weather': [{'id': 803,\n",
       "     'main': 'Clouds',\n",
       "     'description': 'broken clouds',\n",
       "     'icon': '04n'}]},\n",
       "  {'id': 2219905,\n",
       "   'dt': 1581559761,\n",
       "   'name': 'Al Khums',\n",
       "   'coord': {'Lon': 14.26, 'Lat': 32.65},\n",
       "   'main': {'temp': 14.53,\n",
       "    'feels_like': 11.84,\n",
       "    'temp_min': 14.53,\n",
       "    'temp_max': 14.53,\n",
       "    'pressure': 1023,\n",
       "    'sea_level': 1023,\n",
       "    'grnd_level': 1019,\n",
       "    'humidity': 71},\n",
       "   'wind': {'speed': 3.66, 'deg': 313},\n",
       "   'rain': None,\n",
       "   'snow': None,\n",
       "   'clouds': {'today': 59},\n",
       "   'weather': [{'id': 803,\n",
       "     'main': 'Clouds',\n",
       "     'description': 'broken clouds',\n",
       "     'icon': '04n'}]},\n",
       "  {'id': 2208425,\n",
       "   'dt': 1581559761,\n",
       "   'name': 'Zuwarah',\n",
       "   'coord': {'Lon': 12.08, 'Lat': 32.93},\n",
       "   'main': {'temp': 14.29,\n",
       "    'feels_like': 12.93,\n",
       "    'temp_min': 14.29,\n",
       "    'temp_max': 14.29,\n",
       "    'pressure': 1023,\n",
       "    'sea_level': 1023,\n",
       "    'grnd_level': 1023,\n",
       "    'humidity': 66},\n",
       "   'wind': {'speed': 1.29, 'deg': 126},\n",
       "   'rain': None,\n",
       "   'snow': None,\n",
       "   'clouds': {'today': 100},\n",
       "   'weather': [{'id': 804,\n",
       "     'main': 'Clouds',\n",
       "     'description': 'overcast clouds',\n",
       "     'icon': '04n'}]},\n",
       "  {'id': 2210221,\n",
       "   'dt': 1581559761,\n",
       "   'name': 'Tarhuna',\n",
       "   'coord': {'Lon': 13.63, 'Lat': 32.44},\n",
       "   'main': {'temp': 10.47,\n",
       "    'feels_like': 8.65,\n",
       "    'temp_min': 10.47,\n",
       "    'temp_max': 10.47,\n",
       "    'pressure': 1023,\n",
       "    'sea_level': 1023,\n",
       "    'grnd_level': 989,\n",
       "    'humidity': 56},\n",
       "   'wind': {'speed': 0.23, 'deg': 294},\n",
       "   'rain': None,\n",
       "   'snow': None,\n",
       "   'clouds': {'today': 67},\n",
       "   'weather': [{'id': 803,\n",
       "     'main': 'Clouds',\n",
       "     'description': 'broken clouds',\n",
       "     'icon': '04n'}]},\n",
       "  {'id': 2208485,\n",
       "   'dt': 1581559761,\n",
       "   'name': 'Zlitan',\n",
       "   'coord': {'Lon': 14.57, 'Lat': 32.47},\n",
       "   'main': {'temp': 14.53,\n",
       "    'feels_like': 11.84,\n",
       "    'temp_min': 14.53,\n",
       "    'temp_max': 14.53,\n",
       "    'pressure': 1023,\n",
       "    'sea_level': 1023,\n",
       "    'grnd_level': 1019,\n",
       "    'humidity': 71},\n",
       "   'wind': {'speed': 3.66, 'deg': 313},\n",
       "   'rain': None,\n",
       "   'snow': None,\n",
       "   'clouds': {'today': 59},\n",
       "   'weather': [{'id': 803,\n",
       "     'main': 'Clouds',\n",
       "     'description': 'broken clouds',\n",
       "     'icon': '04n'}]},\n",
       "  {'id': 2217362,\n",
       "   'dt': 1581559761,\n",
       "   'name': 'Gharyan',\n",
       "   'coord': {'Lon': 13.02, 'Lat': 32.17},\n",
       "   'main': {'temp': 9.22,\n",
       "    'feels_like': 5.52,\n",
       "    'temp_min': 9.22,\n",
       "    'temp_max': 9.22,\n",
       "    'pressure': 1023,\n",
       "    'sea_level': 1023,\n",
       "    'grnd_level': 938,\n",
       "    'humidity': 30},\n",
       "   'wind': {'speed': 1.22, 'deg': 199},\n",
       "   'rain': None,\n",
       "   'snow': None,\n",
       "   'clouds': {'today': 100},\n",
       "   'weather': [{'id': 804,\n",
       "     'main': 'Clouds',\n",
       "     'description': 'overcast clouds',\n",
       "     'icon': '04n'}]},\n",
       "  {'id': 2523693,\n",
       "   'dt': 1581559763,\n",
       "   'name': 'Pozzallo',\n",
       "   'coord': {'Lon': 14.85, 'Lat': 36.73},\n",
       "   'main': {'temp': 8.34,\n",
       "    'feels_like': 5.76,\n",
       "    'temp_min': 5,\n",
       "    'temp_max': 10.56,\n",
       "    'pressure': 1022,\n",
       "    'humidity': 80},\n",
       "   'visibility': 10000,\n",
       "   'wind': {'speed': 2.1, 'deg': 60},\n",
       "   'rain': None,\n",
       "   'snow': None,\n",
       "   'clouds': {'today': 100},\n",
       "   'weather': [{'id': 804,\n",
       "     'main': 'Clouds',\n",
       "     'description': 'overcast clouds',\n",
       "     'icon': '04n'}]},\n",
       "  {'id': 2524119,\n",
       "   'dt': 1581559763,\n",
       "   'name': 'Modica',\n",
       "   'coord': {'Lon': 14.77, 'Lat': 36.85},\n",
       "   'main': {'temp': 7.88,\n",
       "    'feels_like': 5.22,\n",
       "    'temp_min': 5,\n",
       "    'temp_max': 10.56,\n",
       "    'pressure': 1022,\n",
       "    'humidity': 80},\n",
       "   'visibility': 10000,\n",
       "   'wind': {'speed': 2.1, 'deg': 60},\n",
       "   'rain': None,\n",
       "   'snow': None,\n",
       "   'clouds': {'today': 66},\n",
       "   'weather': [{'id': 803,\n",
       "     'main': 'Clouds',\n",
       "     'description': 'broken clouds',\n",
       "     'icon': '04n'}]},\n",
       "  {'id': 2208791,\n",
       "   'dt': 1581559761,\n",
       "   'name': 'Yafran',\n",
       "   'coord': {'Lon': 12.53, 'Lat': 32.06},\n",
       "   'main': {'temp': 10.73,\n",
       "    'feels_like': 6.61,\n",
       "    'temp_min': 10.73,\n",
       "    'temp_max': 10.73,\n",
       "    'pressure': 1023,\n",
       "    'sea_level': 1023,\n",
       "    'grnd_level': 956,\n",
       "    'humidity': 27},\n",
       "   'wind': {'speed': 1.81, 'deg': 191},\n",
       "   'rain': None,\n",
       "   'snow': None,\n",
       "   'clouds': {'today': 100},\n",
       "   'weather': [{'id': 804,\n",
       "     'main': 'Clouds',\n",
       "     'description': 'overcast clouds',\n",
       "     'icon': '04n'}]},\n",
       "  {'id': 2523581,\n",
       "   'dt': 1581559763,\n",
       "   'name': 'Rosolini',\n",
       "   'coord': {'Lon': 14.95, 'Lat': 36.82},\n",
       "   'main': {'temp': 7.94,\n",
       "    'feels_like': 5.29,\n",
       "    'temp_min': 5,\n",
       "    'temp_max': 10.56,\n",
       "    'pressure': 1022,\n",
       "    'humidity': 80},\n",
       "   'visibility': 10000,\n",
       "   'wind': {'speed': 2.1, 'deg': 60},\n",
       "   'rain': None,\n",
       "   'snow': None,\n",
       "   'clouds': {'today': 66},\n",
       "   'weather': [{'id': 803,\n",
       "     'main': 'Clouds',\n",
       "     'description': 'broken clouds',\n",
       "     'icon': '04n'}]},\n",
       "  {'id': 2523650,\n",
       "   'dt': 1581559763,\n",
       "   'name': 'Ragusa',\n",
       "   'coord': {'Lon': 14.72, 'Lat': 36.93},\n",
       "   'main': {'temp': 7.88,\n",
       "    'feels_like': 5.22,\n",
       "    'temp_min': 5,\n",
       "    'temp_max': 10.56,\n",
       "    'pressure': 1022,\n",
       "    'humidity': 80},\n",
       "   'visibility': 10000,\n",
       "   'wind': {'speed': 2.1, 'deg': 60},\n",
       "   'rain': None,\n",
       "   'snow': None,\n",
       "   'clouds': {'today': 68},\n",
       "   'weather': [{'id': 803,\n",
       "     'main': 'Clouds',\n",
       "     'description': 'broken clouds',\n",
       "     'icon': '04n'}]}]}"
      ]
     },
     "execution_count": 120,
     "metadata": {},
     "output_type": "execute_result"
    }
   ],
   "source": [
    "resp"
   ]
  },
  {
   "cell_type": "markdown",
   "metadata": {},
   "source": [
    "You can loop over the length of the repsonse contents in a list and parse the value of a key."
   ]
  },
  {
   "cell_type": "code",
   "execution_count": 121,
   "metadata": {},
   "outputs": [
    {
     "name": "stdout",
     "output_type": "stream",
     "text": [
      "Birkirkara\n",
      "Tripoli\n",
      "Zawiya\n",
      "Sabratah\n",
      "Masallatah\n",
      "Al Khums\n",
      "Zuwarah\n",
      "Tarhuna\n",
      "Zlitan\n",
      "Gharyan\n",
      "Pozzallo\n",
      "Modica\n",
      "Yafran\n",
      "Rosolini\n",
      "Ragusa\n"
     ]
    }
   ],
   "source": [
    " for i in range(resp['cnt']):\n",
    "        print (resp['list'][i]['name'])"
   ]
  },
  {
   "cell_type": "markdown",
   "metadata": {},
   "source": [
    "### Writing to a JSON file"
   ]
  },
  {
   "cell_type": "markdown",
   "metadata": {},
   "source": [
    "Most of the times, we immediately want to save the retrived data from API into a flat file for later use. Python library `json` has `dump` method that can be used to save the reponse contents into a file. JSON files are saved as text files with `.json` extension. A file needs to be opened for writing using builtin open() function. The arguement `w` tells Python that the file needs to be opened for writing.  "
   ]
  },
  {
   "cell_type": "code",
   "execution_count": 97,
   "metadata": {},
   "outputs": [],
   "source": [
    "import json\n",
    "with open(\"data_file.json\", \"w\") as write_file:\n",
    "    json.dump(resp, write_file)"
   ]
  },
  {
   "cell_type": "markdown",
   "metadata": {},
   "source": [
    "### Reading a JSON file"
   ]
  },
  {
   "cell_type": "markdown",
   "metadata": {},
   "source": [
    "You can also use json library to read a file containing JSON object using a load() method."
   ]
  },
  {
   "cell_type": "code",
   "execution_count": 98,
   "metadata": {},
   "outputs": [],
   "source": [
    "with open(\"data_file.json\", \"r\") as read_file:\n",
    "    data = json.load(read_file)"
   ]
  }
 ],
 "metadata": {
  "kernelspec": {
   "display_name": "Python 3",
   "language": "python",
   "name": "python3"
  },
  "language_info": {
   "codemirror_mode": {
    "name": "ipython",
    "version": 3
   },
   "file_extension": ".py",
   "mimetype": "text/x-python",
   "name": "python",
   "nbconvert_exporter": "python",
   "pygments_lexer": "ipython3",
   "version": "3.8.1"
  }
 },
 "nbformat": 4,
 "nbformat_minor": 4
}
