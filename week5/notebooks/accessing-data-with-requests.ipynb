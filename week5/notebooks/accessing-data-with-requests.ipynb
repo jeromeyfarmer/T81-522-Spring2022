{
 "cells": [
  {
   "cell_type": "markdown",
   "metadata": {},
   "source": [
    "In the last section with Postman, we signed up with openweathermap API and obtained an `APPID`. We are going to send similiar `GET` queries to the API to retrieve weather data but using Python's `requests` library."
   ]
  },
  {
   "cell_type": "markdown",
   "metadata": {},
   "source": [
    "Requests library comes with standard distribution of Anaconda. Otherwise, you can install it using either pip or conda install.\n",
    "\n",
    "```shell\n",
    "conda install requests\n",
    "```\n",
    "\n",
    "or \n",
    "\n",
    "```shell\n",
    "pip install requests\n",
    "```\n"
   ]
  },
  {
   "cell_type": "code",
   "execution_count": 142,
   "metadata": {},
   "outputs": [],
   "source": [
    "import requests"
   ]
  },
  {
   "cell_type": "markdown",
   "metadata": {},
   "source": [
    "### A little divergence from requests"
   ]
  },
  {
   "cell_type": "markdown",
   "metadata": {},
   "source": [
    "APIs authenticate users using various mechanisms. While weathermapapi authenticates using a key named `APPID`, other APIs might use `public-private-keys` and `secret-access-keys` as in AWS, or through conventional `username` or `password` based credentials. Obviously, we want to store and use them in a secure manner. \n",
    "\n",
    "You can simply copy paste your `APPID` when prompted using `getpass` module as follows if you don't mind copying and pasting the key everytime you run your script or notebook. "
   ]
  },
  {
   "cell_type": "code",
   "execution_count": 143,
   "metadata": {},
   "outputs": [
    {
     "name": "stdout",
     "output_type": "stream",
     "text": [
      "APPID: ········\n"
     ]
    }
   ],
   "source": [
    "import getpass\n",
    "APPID = getpass.getpass(prompt='APPID: ', stream=None)"
   ]
  },
  {
   "cell_type": "markdown",
   "metadata": {},
   "source": [
    "Alternatively, I stored the APPID as an environment variable. To do that, you need to activate your environment and run the following command and reactivate conda environment:\n",
    "\n",
    "```bash\n",
    "conda env config vars set APPID=your_appid\n",
    "```\n",
    "\n",
    "To retrive the stored APPID environment variable, run the following commands:"
   ]
  },
  {
   "cell_type": "code",
   "execution_count": 144,
   "metadata": {},
   "outputs": [],
   "source": [
    "import os\n",
    "APPID = os.getenv(\"APPID\")"
   ]
  },
  {
   "cell_type": "markdown",
   "metadata": {},
   "source": [
    "### Back to making `GET` request to API\n",
    "\n",
    "Lets first make a simple GET request to openweathermap API by calling get() with the following URL:"
   ]
  },
  {
   "cell_type": "code",
   "execution_count": 145,
   "metadata": {},
   "outputs": [],
   "source": [
    "url = 'https://api.openweathermap.org/data/2.5/weather?q=Saint Louis&APPID={}'.format(APPID)\n",
    "\n",
    "response = requests.get(url)"
   ]
  },
  {
   "cell_type": "markdown",
   "metadata": {},
   "source": [
    "To check whether the server returned any data, you can call `status_code` attribute of the response:"
   ]
  },
  {
   "cell_type": "code",
   "execution_count": 146,
   "metadata": {},
   "outputs": [
    {
     "data": {
      "text/plain": [
       "200"
      ]
     },
     "execution_count": 146,
     "metadata": {},
     "output_type": "execute_result"
    }
   ],
   "source": [
    "response.status_code"
   ]
  },
  {
   "cell_type": "markdown",
   "metadata": {},
   "source": [
    "We learnt in the last section that the status 200 means the request was successful. Requests has a built-in status code lookup object for easy handling of the response appropriately. An exception can be raised if the response is not `ok` using `raise_for_status()` method. "
   ]
  },
  {
   "cell_type": "code",
   "execution_count": 147,
   "metadata": {},
   "outputs": [],
   "source": [
    "url_e = 'https://api.openweathermap.org/data/2.5/weather?q=Saint Louis&APPID={}'.format('74892b4hjb4jhb24bhj')"
   ]
  },
  {
   "cell_type": "code",
   "execution_count": 148,
   "metadata": {},
   "outputs": [
    {
     "name": "stdout",
     "output_type": "stream",
     "text": [
      "An HTTP Error occurred: 401 Client Error: Unauthorized for url: https://api.openweathermap.org/data/2.5/weather?q=Saint%20Louis&APPID=74892b4hjb4jhb24bhj\n"
     ]
    }
   ],
   "source": [
    "from requests.exceptions import HTTPError\n",
    "\n",
    "try:\n",
    "    response = requests.get(url_e)\n",
    "    response.raise_for_status()\n",
    "except requests.exceptions.HTTPError as errh:\n",
    "    print (\"An HTTP Error occurred: {}\".format(errh))\n",
    "except requests.exceptions.ConnectionError as errc:\n",
    "    print (\"An Error Connecting to the API occurred:{}\".format(errc))\n",
    "except requests.exceptions.Timeout as errt:\n",
    "    print(\"A Timeout Error occurred: {}\".format(errt))\n",
    "except requests.exceptions.RequestException as err:\n",
    "    print(\"An Unknown Error occurred: {}\".format(err))\n",
    "except Exception as err:\n",
    "    print('Error occurred: {}'.format(err)) \n",
    "else:\n",
    "    print('Success!')"
   ]
  },
  {
   "cell_type": "markdown",
   "metadata": {},
   "source": [
    "If the status code indicates a successful request, the program will proceed without exception being raised. In the above case, the status code was 401, hence an HTTPError exception was raised caused by a wrong APPID."
   ]
  },
  {
   "cell_type": "markdown",
   "metadata": {},
   "source": [
    "### Passing Parameters In URLs\n",
    "\n",
    "In the examples we are working,we used the complete URL constructed by hand i.e. manually typing the query parameter for city and APPID after base_url (https://api.openweathermap.org/data/2.5/weather?). This is cumbersome and prone to error. Requests allows you to provide these arguments as a dictionary, using the params keyword argument.\n",
    "\n"
   ]
  },
  {
   "cell_type": "code",
   "execution_count": 96,
   "metadata": {},
   "outputs": [],
   "source": [
    "params = {'q': 'Saint Louis', 'APPID': APPID}\n",
    "response = requests.get(\"https://api.openweathermap.org/data/2.5/weather?\", params=params)"
   ]
  },
  {
   "cell_type": "markdown",
   "metadata": {},
   "source": [
    "you can verify that the request used the same url as before by typing:\n",
    "\n",
    "```python\n",
    "reponse.url\n",
    "```"
   ]
  },
  {
   "cell_type": "markdown",
   "metadata": {},
   "source": [
    "You can keep adding other parameters as needed. For example, to retrive temperature unit in Farenheit, you can add key,value pair `units` and `imperial."
   ]
  },
  {
   "cell_type": "code",
   "execution_count": 97,
   "metadata": {},
   "outputs": [],
   "source": [
    "params = {'q': 'Saint Louis', 'units': 'imperial', 'APPID': APPID}\n",
    "response = requests.get(\"https://api.openweathermap.org/data/2.5/weather?\", params=params)"
   ]
  },
  {
   "cell_type": "markdown",
   "metadata": {},
   "source": [
    "### Reading contents"
   ]
  },
  {
   "cell_type": "markdown",
   "metadata": {},
   "source": [
    "You can access the content of the reponse by using `response.content` for binary encoded data or reponse.text for text data. W knew from the previous exercise that the API returns reponse in `JSON` format unless specified otherwise. Request reponse has builtin `json` method to decode JSON contents."
   ]
  },
  {
   "cell_type": "code",
   "execution_count": 98,
   "metadata": {},
   "outputs": [
    {
     "data": {
      "text/plain": [
       "{'coord': {'lon': -90.2, 'lat': 38.63},\n",
       " 'weather': [{'id': 804,\n",
       "   'main': 'Clouds',\n",
       "   'description': 'overcast clouds',\n",
       "   'icon': '04d'}],\n",
       " 'base': 'stations',\n",
       " 'main': {'temp': 52.68,\n",
       "  'feels_like': 44.76,\n",
       "  'temp_min': 46,\n",
       "  'temp_max': 59,\n",
       "  'pressure': 1014,\n",
       "  'humidity': 71},\n",
       " 'visibility': 16093,\n",
       " 'wind': {'speed': 11.41, 'deg': 180, 'gust': 23.04},\n",
       " 'clouds': {'all': 90},\n",
       " 'dt': 1581276715,\n",
       " 'sys': {'type': 1,\n",
       "  'id': 3689,\n",
       "  'country': 'US',\n",
       "  'sunrise': 1581253152,\n",
       "  'sunset': 1581291055},\n",
       " 'timezone': -21600,\n",
       " 'id': 4407066,\n",
       " 'name': 'St. Louis',\n",
       " 'cod': 200}"
      ]
     },
     "execution_count": 98,
     "metadata": {},
     "output_type": "execute_result"
    }
   ],
   "source": [
    "response.json()"
   ]
  },
  {
   "cell_type": "markdown",
   "metadata": {},
   "source": []
  }
 ],
 "metadata": {
  "kernelspec": {
   "display_name": "Python 3",
   "language": "python",
   "name": "python3"
  },
  "language_info": {
   "codemirror_mode": {
    "name": "ipython",
    "version": 3
   },
   "file_extension": ".py",
   "mimetype": "text/x-python",
   "name": "python",
   "nbconvert_exporter": "python",
   "pygments_lexer": "ipython3",
   "version": "3.8.1"
  }
 },
 "nbformat": 4,
 "nbformat_minor": 2
}
