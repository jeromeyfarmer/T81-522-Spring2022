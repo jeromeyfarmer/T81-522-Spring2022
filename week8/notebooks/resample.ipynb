{
 "cells": [
  {
   "cell_type": "markdown",
   "metadata": {},
   "source": [
    "## Resampling for imbalanced datasets\n",
    "\n",
    "In the predictive modelling contexts, imbalanced data refers to the situation when the distribution of target variable Y is highly skewed.\n",
    "\n",
    "It is a common problem in classification tasks, when the classes are not represented equally. For example, when building models such as  fraud detection, loan default, spam detection, the number of examples available for positive classes are usually  way lower  than negative classes.\n",
    "\n",
    "Imbalanced dataset is problematic because the learning by learning algorithms will be biased towards the overly represented class. A machine learning algorithm learns by trying to make fewer mistakes: since there are fewer examples in one class, it tends to focus on not making mistakes in the overly represented class. In a fraud detection task fraught with large number of negative examples, the learning algorithm might try very hard to be right with all examples in negative class that defeats our primary purpose.\n",
    "\n",
    "There are some recommended ways of dealing with imbalanced data especially during model training and evaluation such as weighted training, penalizing model with adjusted cost function, and selecting metrics insensitive to class imbalance. We will cover those in Week 11 lecture of the best practices in machine learning.\n",
    "\n",
    "Here, we will discuss easy to implement resampling techniques to balance dataset before training a model.\n",
    "\n",
    "\n",
    "There are two main approaches to even-up classes in an imbalanced data:\n",
    "\n",
    "<ul><li> **Oversampling:** Increase the number of instances from the under-represented class ( sampling with replancement<ul><li> _Disadvantage_ : It can lead to overfitting (doing will with the model data but no so with the future dataset)</ul></ul>\n",
    "<ul><li> **Undersampling:** Remove instances from the over-represented class, called under-sampling.<ul><li> _Disadvantage_ : It can cause loss of information. </ul></ul>\n",
    "\n",
    "Pandas DataFrame.sample method can be used to sample randomly either the majority or minority class.\n",
    "    \n",
    "\n",
    "Some Rules of Thumb\n",
    "Consider testing under-sampling when you have an a lot data (tens- or hundreds of thousands of instances or more)\n",
    "Consider testing over-sampling when you don’t have a lot of data (tens of thousands of records or less)\n",
    "Consider testing random and non-random (e.g. stratified) sampling schemes.\n",
    "Consider testing different resampled ratios (e.g. you don’t have to target a 1:1 ratio in a binary classification problem, try other ratios)    \n"
   ]
  },
  {
   "cell_type": "code",
   "execution_count": 25,
   "metadata": {},
   "outputs": [],
   "source": [
    "from sklearn.datasets import make_classification\n",
    "import pandas as pd\n",
    "\n",
    "X, y = make_classification(\n",
    "    n_classes=2, class_sep=1.5, weights=[0.9, 0.1],\n",
    "    n_informative=3, n_redundant=1, flip_y=0,\n",
    "    n_features=20, n_clusters_per_class=1,\n",
    "    n_samples=100, random_state=10)"
   ]
  },
  {
   "cell_type": "code",
   "execution_count": 26,
   "metadata": {},
   "outputs": [],
   "source": [
    "df = pd.DataFrame(X)\n",
    "df['Y'] = y"
   ]
  },
  {
   "cell_type": "code",
   "execution_count": 27,
   "metadata": {},
   "outputs": [],
   "source": [
    "\n",
    "df_0 = df[df.Y == 0]\n",
    "df_1 = df[df.Y == 1]"
   ]
  },
  {
   "cell_type": "code",
   "execution_count": 28,
   "metadata": {},
   "outputs": [
    {
     "data": {
      "image/png": "[encoded data removed]",
      "text/plain": [
       "<Figure size 432x288 with 1 Axes>"
      ]
     },
     "metadata": {
      "needs_background": "light"
     },
     "output_type": "display_data"
    }
   ],
   "source": [
    "df.Y.value_counts().plot(kind='bar', title='Count (target)');"
   ]
  },
  {
   "cell_type": "markdown",
   "metadata": {},
   "source": [
    "### Under sampling"
   ]
  },
  {
   "cell_type": "code",
   "execution_count": 30,
   "metadata": {},
   "outputs": [],
   "source": [
    "df_0_under = df_0.sample(len(df_1))\n",
    "df_under = pd.concat([df_0_under, df_1], axis=0)\n"
   ]
  },
  {
   "cell_type": "code",
   "execution_count": 32,
   "metadata": {},
   "outputs": [
    {
     "data": {
      "image/png": "[encoded data removed]",
      "text/plain": [
       "<Figure size 432x288 with 1 Axes>"
      ]
     },
     "metadata": {
      "needs_background": "light"
     },
     "output_type": "display_data"
    }
   ],
   "source": [
    "df_under.Y.value_counts().plot(kind='bar', title='Count (target)');"
   ]
  },
  {
   "cell_type": "code",
   "execution_count": 35,
   "metadata": {},
   "outputs": [],
   "source": [
    "df_1_over = df_1.sample(len(df_0), replace=True)\n",
    "df_over = pd.concat([df_0, df_1_over], axis=0)"
   ]
  },
  {
   "cell_type": "code",
   "execution_count": 36,
   "metadata": {},
   "outputs": [
    {
     "data": {
      "image/png": "[encoded data removed]",
      "text/plain": [
       "<Figure size 432x288 with 1 Axes>"
      ]
     },
     "metadata": {
      "needs_background": "light"
     },
     "output_type": "display_data"
    }
   ],
   "source": [
    "df_over.Y.value_counts().plot(kind='bar', title='Count (target)');"
   ]
  },
  {
   "cell_type": "markdown",
   "metadata": {},
   "source": [
    "\n",
    "https://www.kaggle.com/rafjaa/resampling-strategies-for-imbalanced-datasets"
   ]
  }
 ],
 "metadata": {
  "kernelspec": {
   "display_name": "Python 3",
   "language": "python",
   "name": "python3"
  },
  "language_info": {
   "codemirror_mode": {
    "name": "ipython",
    "version": 3
   },
   "file_extension": ".py",
   "mimetype": "text/x-python",
   "name": "python",
   "nbconvert_exporter": "python",
   "pygments_lexer": "ipython3",
   "version": "3.8.1"
  }
 },
 "nbformat": 4,
 "nbformat_minor": 4
}
