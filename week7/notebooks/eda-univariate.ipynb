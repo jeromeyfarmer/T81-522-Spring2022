{
 "cells": [
  {
   "cell_type": "markdown",
   "metadata": {},
   "source": [
    "# Univariate EDA with domestice flight-performance data"
   ]
  },
  {
   "cell_type": "markdown",
   "metadata": {},
   "source": [
    "In this lesson, you will learn various way of performing univariate exploratory data analysis in Pandas. In univariate analysis, each feature is explored individually independent of others. Bivariate analysis will be covered in the next lesson. We will use the open source data on on-time performance of domestics flights. The data for this exercise was downloaded from [Kaggle](https://www.kaggle.com/usdot/flight-delays).\n",
    "\n",
    "\n",
    "\n",
    "We will explore the data in relation to the following questions:\n",
    "\n",
    "#### 1. What kind of features (variables or columns) are there? Is there any need for type conversion?\n",
    "\n",
    "#### 2. How is the data distributed across different features?\n",
    "\n",
    "#### 3. Is there any need for data cleaning? \n",
    "\n",
    "These questions are asked with a supposed goal of building a predictive model for flight delays in the future.\n",
    "\n",
    "The U.S. Department of Transportation's (DOT) Bureau of Transportation Statistics tracks the on-time performance of domestic flights operated by large air carriers. Summary information on the number of on-time, delayed, canceled, and diverted flights is published in DOT's monthly Air Travel Consumer Report and in this dataset of 2015 flight delays and cancellations."
   ]
  },
  {
   "cell_type": "markdown",
   "metadata": {},
   "source": [
    "### 1. What diferent features (variables or columns) do you have in your data? What are their  types? Is there any need for type conversion?\n",
    "\n"
   ]
  },
  {
   "cell_type": "markdown",
   "metadata": {},
   "source": [
    "First load the data into pandas dataframe."
   ]
  },
  {
   "cell_type": "code",
   "execution_count": 9,
   "metadata": {},
   "outputs": [],
   "source": [
    "import os\n",
    "import pandas as pd\n",
    "import numpy as np\n",
    "import seaborn as sns\n",
    "import matplotlib.pyplot as plt\n",
    "import warnings\n",
    "warnings.filterwarnings(action='once')\n",
    "pd.set_option('display.float_format', lambda x: '%.2f' % x)"
   ]
  },
  {
   "cell_type": "code",
   "execution_count": 7,
   "metadata": {},
   "outputs": [],
   "source": [
    "DATA_DIR = \"/home/asimbanskota/t81_577_data_science/weekly_materials/week7/files\""
   ]
  },
  {
   "cell_type": "code",
   "execution_count": 8,
   "metadata": {},
   "outputs": [
    {
     "name": "stdout",
     "output_type": "stream",
     "text": [
      "airlines.csv\n",
      "airports.csv\n",
      "flights.csv\n",
      "ORD.csv\n"
     ]
    }
   ],
   "source": [
    "for f in os.listdir(DATA_DIR):\n",
    "    print (f)"
   ]
  },
  {
   "cell_type": "markdown",
   "metadata": {},
   "source": [
    "ailrlines.csv: airlines related data <br>\n",
    "airports.csv:  airport related information<br>\n",
    "flights.csv: flight related features<br>"
   ]
  },
  {
   "cell_type": "markdown",
   "metadata": {},
   "source": [
    "### Read flights.csv into a dataframe. \n",
    "\n"
   ]
  },
  {
   "cell_type": "code",
   "execution_count": 4,
   "metadata": {},
   "outputs": [
    {
     "name": "stdout",
     "output_type": "stream",
     "text": [
      "Exact number of rows: 5819080\n"
     ]
    }
   ],
   "source": [
    "flights = os.path.join(DATA_DIR, 'flights.csv')\n",
    "with open(flights) as file:\n",
    "    n_rows = len(file.readlines())\n",
    "\n",
    "print (f'Exact number of rows: {n_rows}')"
   ]
  },
  {
   "cell_type": "markdown",
   "metadata": {},
   "source": [
    "The csv file has about 6 million rows: in case you run into memory issue during this exercise, you can import only few rows using `nrows` arg for data inspection:\n",
    "```python\n",
    "df = pd.read_csv(csv_file_name, nrows = 1000)\n",
    "```\n",
    "After inspecting the columns names, you can import entire rows but only the columns that need exploration or process data in chunks as you learned last week:\n",
    "\n",
    "```python\n",
    "df = pd.read_csv(csv_file_name, names= ['col1' 'col2', 'col3'])\n",
    "```"
   ]
  },
  {
   "cell_type": "code",
   "execution_count": 12,
   "metadata": {},
   "outputs": [],
   "source": [
    "df= pd.read_csv(flights)"
   ]
  },
  {
   "cell_type": "markdown",
   "metadata": {},
   "source": [
    "Always start with checking the shape or dimension of the dataframe."
   ]
  },
  {
   "cell_type": "code",
   "execution_count": 13,
   "metadata": {},
   "outputs": [
    {
     "data": {
      "text/plain": [
       "(5819079, 31)"
      ]
     },
     "execution_count": 13,
     "metadata": {},
     "output_type": "execute_result"
    }
   ],
   "source": [
    "df.shape"
   ]
  },
  {
   "cell_type": "markdown",
   "metadata": {},
   "source": [
    "\n",
    "Each record corresponds to a single flight in the US in 2015 described by 31 features. The complete description of the features is found [here](https://www.transtats.bts.gov/DL_SelectFields.asp?Table_ID=236&DB_Short_Name=On-Time). Some of the relevant variables for this exercise are:\n",
    "\n",
    "YEAR, MONTH, DAY, DAY_OF_WEEK: dates of the flight <br>\n",
    "AIRLINE: id for airline <br>\n",
    "ORIGIN_AIRPORT and DESTINATION_AIRPORT: code airports <br>\n",
    "SCHEDULED_DEPARTURE and SCHEDULED_ARRIVAL : scheduled times of take-off and landing <br>\n",
    "DEPARTURE_TIME and ARRIVAL_TIME: real times at which take-off and landing took place <br>\n",
    "DEPARTURE_DELAY and ARRIVAL_DELAY: difference (in minutes) between planned and real times <br>\n",
    "DISTANCE: distance (in miles) "
   ]
  },
  {
   "cell_type": "markdown",
   "metadata": {},
   "source": [
    "Occasionally, a first peek of a dataframe using either `head()` and `tail()` method or `info()` might inform you right away about the need for replacing some values or changing data types."
   ]
  },
  {
   "cell_type": "code",
   "execution_count": 14,
   "metadata": {},
   "outputs": [
    {
     "data": {
      "text/html": [
       "<div>\n",
       "<style scoped>\n",
       "    .dataframe tbody tr th:only-of-type {\n",
       "        vertical-align: middle;\n",
       "    }\n",
       "\n",
       "    .dataframe tbody tr th {\n",
       "        vertical-align: top;\n",
       "    }\n",
       "\n",
       "    .dataframe thead th {\n",
       "        text-align: right;\n",
       "    }\n",
       "</style>\n",
       "<table border=\"1\" class=\"dataframe\">\n",
       "  <thead>\n",
       "    <tr style=\"text-align: right;\">\n",
       "      <th></th>\n",
       "      <th>YEAR</th>\n",
       "      <th>MONTH</th>\n",
       "      <th>DAY</th>\n",
       "      <th>DAY_OF_WEEK</th>\n",
       "      <th>AIRLINE</th>\n",
       "      <th>FLIGHT_NUMBER</th>\n",
       "      <th>TAIL_NUMBER</th>\n",
       "      <th>ORIGIN_AIRPORT</th>\n",
       "      <th>DESTINATION_AIRPORT</th>\n",
       "      <th>SCHEDULED_DEPARTURE</th>\n",
       "      <th>DEPARTURE_TIME</th>\n",
       "      <th>DEPARTURE_DELAY</th>\n",
       "      <th>TAXI_OUT</th>\n",
       "      <th>WHEELS_OFF</th>\n",
       "      <th>SCHEDULED_TIME</th>\n",
       "      <th>ELAPSED_TIME</th>\n",
       "      <th>AIR_TIME</th>\n",
       "      <th>DISTANCE</th>\n",
       "      <th>WHEELS_ON</th>\n",
       "      <th>TAXI_IN</th>\n",
       "      <th>SCHEDULED_ARRIVAL</th>\n",
       "      <th>ARRIVAL_TIME</th>\n",
       "      <th>ARRIVAL_DELAY</th>\n",
       "      <th>DIVERTED</th>\n",
       "      <th>CANCELLED</th>\n",
       "      <th>CANCELLATION_REASON</th>\n",
       "      <th>AIR_SYSTEM_DELAY</th>\n",
       "      <th>SECURITY_DELAY</th>\n",
       "      <th>AIRLINE_DELAY</th>\n",
       "      <th>LATE_AIRCRAFT_DELAY</th>\n",
       "      <th>WEATHER_DELAY</th>\n",
       "    </tr>\n",
       "  </thead>\n",
       "  <tbody>\n",
       "    <tr>\n",
       "      <th>0</th>\n",
       "      <td>2015</td>\n",
       "      <td>1</td>\n",
       "      <td>1</td>\n",
       "      <td>4</td>\n",
       "      <td>AS</td>\n",
       "      <td>98</td>\n",
       "      <td>N407AS</td>\n",
       "      <td>ANC</td>\n",
       "      <td>SEA</td>\n",
       "      <td>5</td>\n",
       "      <td>2354.00</td>\n",
       "      <td>-11.00</td>\n",
       "      <td>21.00</td>\n",
       "      <td>15.00</td>\n",
       "      <td>205.00</td>\n",
       "      <td>194.00</td>\n",
       "      <td>169.00</td>\n",
       "      <td>1448</td>\n",
       "      <td>404.00</td>\n",
       "      <td>4.00</td>\n",
       "      <td>430</td>\n",
       "      <td>408.00</td>\n",
       "      <td>-22.00</td>\n",
       "      <td>0</td>\n",
       "      <td>0</td>\n",
       "      <td>NaN</td>\n",
       "      <td>nan</td>\n",
       "      <td>nan</td>\n",
       "      <td>nan</td>\n",
       "      <td>nan</td>\n",
       "      <td>nan</td>\n",
       "    </tr>\n",
       "    <tr>\n",
       "      <th>1</th>\n",
       "      <td>2015</td>\n",
       "      <td>1</td>\n",
       "      <td>1</td>\n",
       "      <td>4</td>\n",
       "      <td>AA</td>\n",
       "      <td>2336</td>\n",
       "      <td>N3KUAA</td>\n",
       "      <td>LAX</td>\n",
       "      <td>PBI</td>\n",
       "      <td>10</td>\n",
       "      <td>2.00</td>\n",
       "      <td>-8.00</td>\n",
       "      <td>12.00</td>\n",
       "      <td>14.00</td>\n",
       "      <td>280.00</td>\n",
       "      <td>279.00</td>\n",
       "      <td>263.00</td>\n",
       "      <td>2330</td>\n",
       "      <td>737.00</td>\n",
       "      <td>4.00</td>\n",
       "      <td>750</td>\n",
       "      <td>741.00</td>\n",
       "      <td>-9.00</td>\n",
       "      <td>0</td>\n",
       "      <td>0</td>\n",
       "      <td>NaN</td>\n",
       "      <td>nan</td>\n",
       "      <td>nan</td>\n",
       "      <td>nan</td>\n",
       "      <td>nan</td>\n",
       "      <td>nan</td>\n",
       "    </tr>\n",
       "    <tr>\n",
       "      <th>2</th>\n",
       "      <td>2015</td>\n",
       "      <td>1</td>\n",
       "      <td>1</td>\n",
       "      <td>4</td>\n",
       "      <td>US</td>\n",
       "      <td>840</td>\n",
       "      <td>N171US</td>\n",
       "      <td>SFO</td>\n",
       "      <td>CLT</td>\n",
       "      <td>20</td>\n",
       "      <td>18.00</td>\n",
       "      <td>-2.00</td>\n",
       "      <td>16.00</td>\n",
       "      <td>34.00</td>\n",
       "      <td>286.00</td>\n",
       "      <td>293.00</td>\n",
       "      <td>266.00</td>\n",
       "      <td>2296</td>\n",
       "      <td>800.00</td>\n",
       "      <td>11.00</td>\n",
       "      <td>806</td>\n",
       "      <td>811.00</td>\n",
       "      <td>5.00</td>\n",
       "      <td>0</td>\n",
       "      <td>0</td>\n",
       "      <td>NaN</td>\n",
       "      <td>nan</td>\n",
       "      <td>nan</td>\n",
       "      <td>nan</td>\n",
       "      <td>nan</td>\n",
       "      <td>nan</td>\n",
       "    </tr>\n",
       "    <tr>\n",
       "      <th>3</th>\n",
       "      <td>2015</td>\n",
       "      <td>1</td>\n",
       "      <td>1</td>\n",
       "      <td>4</td>\n",
       "      <td>AA</td>\n",
       "      <td>258</td>\n",
       "      <td>N3HYAA</td>\n",
       "      <td>LAX</td>\n",
       "      <td>MIA</td>\n",
       "      <td>20</td>\n",
       "      <td>15.00</td>\n",
       "      <td>-5.00</td>\n",
       "      <td>15.00</td>\n",
       "      <td>30.00</td>\n",
       "      <td>285.00</td>\n",
       "      <td>281.00</td>\n",
       "      <td>258.00</td>\n",
       "      <td>2342</td>\n",
       "      <td>748.00</td>\n",
       "      <td>8.00</td>\n",
       "      <td>805</td>\n",
       "      <td>756.00</td>\n",
       "      <td>-9.00</td>\n",
       "      <td>0</td>\n",
       "      <td>0</td>\n",
       "      <td>NaN</td>\n",
       "      <td>nan</td>\n",
       "      <td>nan</td>\n",
       "      <td>nan</td>\n",
       "      <td>nan</td>\n",
       "      <td>nan</td>\n",
       "    </tr>\n",
       "    <tr>\n",
       "      <th>4</th>\n",
       "      <td>2015</td>\n",
       "      <td>1</td>\n",
       "      <td>1</td>\n",
       "      <td>4</td>\n",
       "      <td>AS</td>\n",
       "      <td>135</td>\n",
       "      <td>N527AS</td>\n",
       "      <td>SEA</td>\n",
       "      <td>ANC</td>\n",
       "      <td>25</td>\n",
       "      <td>24.00</td>\n",
       "      <td>-1.00</td>\n",
       "      <td>11.00</td>\n",
       "      <td>35.00</td>\n",
       "      <td>235.00</td>\n",
       "      <td>215.00</td>\n",
       "      <td>199.00</td>\n",
       "      <td>1448</td>\n",
       "      <td>254.00</td>\n",
       "      <td>5.00</td>\n",
       "      <td>320</td>\n",
       "      <td>259.00</td>\n",
       "      <td>-21.00</td>\n",
       "      <td>0</td>\n",
       "      <td>0</td>\n",
       "      <td>NaN</td>\n",
       "      <td>nan</td>\n",
       "      <td>nan</td>\n",
       "      <td>nan</td>\n",
       "      <td>nan</td>\n",
       "      <td>nan</td>\n",
       "    </tr>\n",
       "  </tbody>\n",
       "</table>\n",
       "</div>"
      ],
      "text/plain": [
       "   YEAR  MONTH  DAY  DAY_OF_WEEK AIRLINE  FLIGHT_NUMBER TAIL_NUMBER  \\\n",
       "0  2015      1    1            4      AS             98      N407AS   \n",
       "1  2015      1    1            4      AA           2336      N3KUAA   \n",
       "2  2015      1    1            4      US            840      N171US   \n",
       "3  2015      1    1            4      AA            258      N3HYAA   \n",
       "4  2015      1    1            4      AS            135      N527AS   \n",
       "\n",
       "  ORIGIN_AIRPORT DESTINATION_AIRPORT  SCHEDULED_DEPARTURE  DEPARTURE_TIME  \\\n",
       "0            ANC                 SEA                    5         2354.00   \n",
       "1            LAX                 PBI                   10            2.00   \n",
       "2            SFO                 CLT                   20           18.00   \n",
       "3            LAX                 MIA                   20           15.00   \n",
       "4            SEA                 ANC                   25           24.00   \n",
       "\n",
       "   DEPARTURE_DELAY  TAXI_OUT  WHEELS_OFF  SCHEDULED_TIME  ELAPSED_TIME  \\\n",
       "0           -11.00     21.00       15.00          205.00        194.00   \n",
       "1            -8.00     12.00       14.00          280.00        279.00   \n",
       "2            -2.00     16.00       34.00          286.00        293.00   \n",
       "3            -5.00     15.00       30.00          285.00        281.00   \n",
       "4            -1.00     11.00       35.00          235.00        215.00   \n",
       "\n",
       "   AIR_TIME  DISTANCE  WHEELS_ON  TAXI_IN  SCHEDULED_ARRIVAL  ARRIVAL_TIME  \\\n",
       "0    169.00      1448     404.00     4.00                430        408.00   \n",
       "1    263.00      2330     737.00     4.00                750        741.00   \n",
       "2    266.00      2296     800.00    11.00                806        811.00   \n",
       "3    258.00      2342     748.00     8.00                805        756.00   \n",
       "4    199.00      1448     254.00     5.00                320        259.00   \n",
       "\n",
       "   ARRIVAL_DELAY  DIVERTED  CANCELLED CANCELLATION_REASON  AIR_SYSTEM_DELAY  \\\n",
       "0         -22.00         0          0                 NaN               nan   \n",
       "1          -9.00         0          0                 NaN               nan   \n",
       "2           5.00         0          0                 NaN               nan   \n",
       "3          -9.00         0          0                 NaN               nan   \n",
       "4         -21.00         0          0                 NaN               nan   \n",
       "\n",
       "   SECURITY_DELAY  AIRLINE_DELAY  LATE_AIRCRAFT_DELAY  WEATHER_DELAY  \n",
       "0             nan            nan                  nan            nan  \n",
       "1             nan            nan                  nan            nan  \n",
       "2             nan            nan                  nan            nan  \n",
       "3             nan            nan                  nan            nan  \n",
       "4             nan            nan                  nan            nan  "
      ]
     },
     "execution_count": 14,
     "metadata": {},
     "output_type": "execute_result"
    }
   ],
   "source": [
    "pd.set_option('display.max_columns', 50)\n",
    "df.head()"
   ]
  },
  {
   "cell_type": "code",
   "execution_count": 15,
   "metadata": {},
   "outputs": [
    {
     "name": "stdout",
     "output_type": "stream",
     "text": [
      "<class 'pandas.core.frame.DataFrame'>\n",
      "RangeIndex: 5819079 entries, 0 to 5819078\n",
      "Data columns (total 31 columns):\n",
      " #   Column               Dtype  \n",
      "---  ------               -----  \n",
      " 0   YEAR                 int64  \n",
      " 1   MONTH                int64  \n",
      " 2   DAY                  int64  \n",
      " 3   DAY_OF_WEEK          int64  \n",
      " 4   AIRLINE              object \n",
      " 5   FLIGHT_NUMBER        int64  \n",
      " 6   TAIL_NUMBER          object \n",
      " 7   ORIGIN_AIRPORT       object \n",
      " 8   DESTINATION_AIRPORT  object \n",
      " 9   SCHEDULED_DEPARTURE  int64  \n",
      " 10  DEPARTURE_TIME       float64\n",
      " 11  DEPARTURE_DELAY      float64\n",
      " 12  TAXI_OUT             float64\n",
      " 13  WHEELS_OFF           float64\n",
      " 14  SCHEDULED_TIME       float64\n",
      " 15  ELAPSED_TIME         float64\n",
      " 16  AIR_TIME             float64\n",
      " 17  DISTANCE             int64  \n",
      " 18  WHEELS_ON            float64\n",
      " 19  TAXI_IN              float64\n",
      " 20  SCHEDULED_ARRIVAL    int64  \n",
      " 21  ARRIVAL_TIME         float64\n",
      " 22  ARRIVAL_DELAY        float64\n",
      " 23  DIVERTED             int64  \n",
      " 24  CANCELLED            int64  \n",
      " 25  CANCELLATION_REASON  object \n",
      " 26  AIR_SYSTEM_DELAY     float64\n",
      " 27  SECURITY_DELAY       float64\n",
      " 28  AIRLINE_DELAY        float64\n",
      " 29  LATE_AIRCRAFT_DELAY  float64\n",
      " 30  WEATHER_DELAY        float64\n",
      "dtypes: float64(16), int64(10), object(5)\n",
      "memory usage: 1.3+ GB\n"
     ]
    }
   ],
   "source": [
    "df.info()"
   ]
  },
  {
   "cell_type": "markdown",
   "metadata": {},
   "source": [
    " One thing you might have noticed that the flight date is not described in a single column and is not in a convenient `datetime` format. We will take care of that [here](temporal-variability-EDA.ipynb) in temporal analyis.\n",
    "\n",
    "There are many ways you can replace certain values in a dataframe. One way is to use `map` method by passing a dictionary of the form ```{old_value: new_value}``` as its argument. For example, the unique values for `DIVERTED` column is 0 and 1. We can replace those values with True and False as below:"
   ]
  },
  {
   "cell_type": "code",
   "execution_count": 12,
   "metadata": {},
   "outputs": [
    {
     "data": {
      "text/plain": [
       "array([0, 1])"
      ]
     },
     "execution_count": 12,
     "metadata": {},
     "output_type": "execute_result"
    }
   ],
   "source": [
    "df.DIVERTED.unique()"
   ]
  },
  {
   "cell_type": "code",
   "execution_count": 13,
   "metadata": {},
   "outputs": [
    {
     "data": {
      "text/plain": [
       "array([False,  True])"
      ]
     },
     "execution_count": 13,
     "metadata": {},
     "output_type": "execute_result"
    }
   ],
   "source": [
    "dic = {1: True, 0: False}\n",
    "df['DIVERTED'] = df['DIVERTED'].map(dic)\n",
    "df.DIVERTED.unique()"
   ]
  },
  {
   "cell_type": "markdown",
   "metadata": {},
   "source": [
    "Alternatively, `replace` method can also be used for the purpose. "
   ]
  },
  {
   "cell_type": "code",
   "execution_count": 14,
   "metadata": {},
   "outputs": [],
   "source": [
    "df.DIVERTED = df.DIVERTED.replace(dic)"
   ]
  },
  {
   "cell_type": "markdown",
   "metadata": {},
   "source": [
    "Dataframe column method `astype()` can be used to change data types. Flight data has column `CANCELLED` with 1 and 0 values of `int` type. Let's change that to `bool` type:"
   ]
  },
  {
   "cell_type": "code",
   "execution_count": 16,
   "metadata": {},
   "outputs": [],
   "source": [
    "df.CANCELLED = df.CANCELLED.astype(bool)"
   ]
  },
  {
   "cell_type": "markdown",
   "metadata": {},
   "source": [
    "## 2. How are the features values distributed in data?\n",
    "- for general understanding of the features\n",
    "- to determine any need for applying transformations \n",
    "- for outlier detection"
   ]
  },
  {
   "cell_type": "markdown",
   "metadata": {},
   "source": [
    "`dataframe.describe()` method can be used to obtain some descriptive statistics on features and get an initial feel for your data. This process of inspecting the general characteristics of your data is also called data profiling that can guide you to tansform and handle your data differently."
   ]
  },
  {
   "cell_type": "code",
   "execution_count": 99,
   "metadata": {
    "scrolled": true
   },
   "outputs": [
    {
     "data": {
      "text/html": [
       "<div>\n",
       "<style scoped>\n",
       "    .dataframe tbody tr th:only-of-type {\n",
       "        vertical-align: middle;\n",
       "    }\n",
       "\n",
       "    .dataframe tbody tr th {\n",
       "        vertical-align: top;\n",
       "    }\n",
       "\n",
       "    .dataframe thead th {\n",
       "        text-align: right;\n",
       "    }\n",
       "</style>\n",
       "<table border=\"1\" class=\"dataframe\">\n",
       "  <thead>\n",
       "    <tr style=\"text-align: right;\">\n",
       "      <th></th>\n",
       "      <th>YEAR</th>\n",
       "      <th>MONTH</th>\n",
       "      <th>DAY</th>\n",
       "      <th>DAY_OF_WEEK</th>\n",
       "      <th>FLIGHT_NUMBER</th>\n",
       "      <th>SCHEDULED_DEPARTURE</th>\n",
       "      <th>DEPARTURE_TIME</th>\n",
       "      <th>DEPARTURE_DELAY</th>\n",
       "      <th>TAXI_OUT</th>\n",
       "      <th>WHEELS_OFF</th>\n",
       "      <th>SCHEDULED_TIME</th>\n",
       "      <th>ELAPSED_TIME</th>\n",
       "      <th>AIR_TIME</th>\n",
       "      <th>DISTANCE</th>\n",
       "      <th>WHEELS_ON</th>\n",
       "      <th>TAXI_IN</th>\n",
       "      <th>SCHEDULED_ARRIVAL</th>\n",
       "      <th>ARRIVAL_TIME</th>\n",
       "      <th>ARRIVAL_DELAY</th>\n",
       "      <th>AIR_SYSTEM_DELAY</th>\n",
       "      <th>SECURITY_DELAY</th>\n",
       "      <th>AIRLINE_DELAY</th>\n",
       "      <th>LATE_AIRCRAFT_DELAY</th>\n",
       "      <th>WEATHER_DELAY</th>\n",
       "    </tr>\n",
       "  </thead>\n",
       "  <tbody>\n",
       "    <tr>\n",
       "      <th>count</th>\n",
       "      <td>100000.0</td>\n",
       "      <td>100000.0</td>\n",
       "      <td>100000.000000</td>\n",
       "      <td>100000.000000</td>\n",
       "      <td>100000.000000</td>\n",
       "      <td>100000.000000</td>\n",
       "      <td>97702.000000</td>\n",
       "      <td>97702.000000</td>\n",
       "      <td>97629.000000</td>\n",
       "      <td>97629.000000</td>\n",
       "      <td>100000.000000</td>\n",
       "      <td>97387.000000</td>\n",
       "      <td>97387.000000</td>\n",
       "      <td>100000.000000</td>\n",
       "      <td>97560.000000</td>\n",
       "      <td>97560.000000</td>\n",
       "      <td>100000.000000</td>\n",
       "      <td>97560.00000</td>\n",
       "      <td>97387.000000</td>\n",
       "      <td>34625.000000</td>\n",
       "      <td>34625.000000</td>\n",
       "      <td>34625.000000</td>\n",
       "      <td>34625.000000</td>\n",
       "      <td>34625.000000</td>\n",
       "    </tr>\n",
       "    <tr>\n",
       "      <th>mean</th>\n",
       "      <td>2015.0</td>\n",
       "      <td>1.0</td>\n",
       "      <td>3.733920</td>\n",
       "      <td>4.107310</td>\n",
       "      <td>2240.827980</td>\n",
       "      <td>1306.348280</td>\n",
       "      <td>1326.265614</td>\n",
       "      <td>19.937749</td>\n",
       "      <td>17.155917</td>\n",
       "      <td>1348.426154</td>\n",
       "      <td>143.039340</td>\n",
       "      <td>142.362995</td>\n",
       "      <td>117.098032</td>\n",
       "      <td>830.389430</td>\n",
       "      <td>1454.528690</td>\n",
       "      <td>8.117876</td>\n",
       "      <td>1481.115620</td>\n",
       "      <td>1458.02992</td>\n",
       "      <td>18.342304</td>\n",
       "      <td>14.026801</td>\n",
       "      <td>0.070787</td>\n",
       "      <td>17.853921</td>\n",
       "      <td>26.014556</td>\n",
       "      <td>2.751971</td>\n",
       "    </tr>\n",
       "    <tr>\n",
       "      <th>std</th>\n",
       "      <td>0.0</td>\n",
       "      <td>0.0</td>\n",
       "      <td>1.815542</td>\n",
       "      <td>2.098451</td>\n",
       "      <td>1818.712658</td>\n",
       "      <td>482.325506</td>\n",
       "      <td>503.509117</td>\n",
       "      <td>45.843577</td>\n",
       "      <td>10.738373</td>\n",
       "      <td>504.142807</td>\n",
       "      <td>76.234984</td>\n",
       "      <td>76.649792</td>\n",
       "      <td>74.306645</td>\n",
       "      <td>609.183228</td>\n",
       "      <td>532.926016</td>\n",
       "      <td>7.561132</td>\n",
       "      <td>498.916358</td>\n",
       "      <td>538.21177</td>\n",
       "      <td>48.878234</td>\n",
       "      <td>25.965405</td>\n",
       "      <td>1.692526</td>\n",
       "      <td>43.527539</td>\n",
       "      <td>42.593343</td>\n",
       "      <td>17.265760</td>\n",
       "    </tr>\n",
       "    <tr>\n",
       "      <th>min</th>\n",
       "      <td>2015.0</td>\n",
       "      <td>1.0</td>\n",
       "      <td>1.000000</td>\n",
       "      <td>1.000000</td>\n",
       "      <td>1.000000</td>\n",
       "      <td>5.000000</td>\n",
       "      <td>1.000000</td>\n",
       "      <td>-39.000000</td>\n",
       "      <td>1.000000</td>\n",
       "      <td>1.000000</td>\n",
       "      <td>23.000000</td>\n",
       "      <td>17.000000</td>\n",
       "      <td>8.000000</td>\n",
       "      <td>31.000000</td>\n",
       "      <td>1.000000</td>\n",
       "      <td>1.000000</td>\n",
       "      <td>1.000000</td>\n",
       "      <td>1.00000</td>\n",
       "      <td>-65.000000</td>\n",
       "      <td>0.000000</td>\n",
       "      <td>0.000000</td>\n",
       "      <td>0.000000</td>\n",
       "      <td>0.000000</td>\n",
       "      <td>0.000000</td>\n",
       "    </tr>\n",
       "    <tr>\n",
       "      <th>25%</th>\n",
       "      <td>2015.0</td>\n",
       "      <td>1.0</td>\n",
       "      <td>2.000000</td>\n",
       "      <td>2.000000</td>\n",
       "      <td>759.000000</td>\n",
       "      <td>904.000000</td>\n",
       "      <td>911.000000</td>\n",
       "      <td>-3.000000</td>\n",
       "      <td>11.000000</td>\n",
       "      <td>928.000000</td>\n",
       "      <td>86.000000</td>\n",
       "      <td>85.000000</td>\n",
       "      <td>62.000000</td>\n",
       "      <td>377.000000</td>\n",
       "      <td>1046.000000</td>\n",
       "      <td>4.000000</td>\n",
       "      <td>1100.000000</td>\n",
       "      <td>1050.00000</td>\n",
       "      <td>-8.000000</td>\n",
       "      <td>0.000000</td>\n",
       "      <td>0.000000</td>\n",
       "      <td>0.000000</td>\n",
       "      <td>0.000000</td>\n",
       "      <td>0.000000</td>\n",
       "    </tr>\n",
       "    <tr>\n",
       "      <th>50%</th>\n",
       "      <td>2015.0</td>\n",
       "      <td>1.0</td>\n",
       "      <td>4.000000</td>\n",
       "      <td>4.000000</td>\n",
       "      <td>1693.000000</td>\n",
       "      <td>1300.000000</td>\n",
       "      <td>1317.000000</td>\n",
       "      <td>3.000000</td>\n",
       "      <td>14.000000</td>\n",
       "      <td>1330.000000</td>\n",
       "      <td>125.000000</td>\n",
       "      <td>125.000000</td>\n",
       "      <td>98.000000</td>\n",
       "      <td>669.000000</td>\n",
       "      <td>1452.000000</td>\n",
       "      <td>6.000000</td>\n",
       "      <td>1500.000000</td>\n",
       "      <td>1455.00000</td>\n",
       "      <td>4.000000</td>\n",
       "      <td>4.000000</td>\n",
       "      <td>0.000000</td>\n",
       "      <td>4.000000</td>\n",
       "      <td>10.000000</td>\n",
       "      <td>0.000000</td>\n",
       "    </tr>\n",
       "    <tr>\n",
       "      <th>75%</th>\n",
       "      <td>2015.0</td>\n",
       "      <td>1.0</td>\n",
       "      <td>5.000000</td>\n",
       "      <td>6.000000</td>\n",
       "      <td>3394.000000</td>\n",
       "      <td>1720.000000</td>\n",
       "      <td>1739.000000</td>\n",
       "      <td>25.000000</td>\n",
       "      <td>20.000000</td>\n",
       "      <td>1753.000000</td>\n",
       "      <td>175.000000</td>\n",
       "      <td>177.000000</td>\n",
       "      <td>150.000000</td>\n",
       "      <td>1069.000000</td>\n",
       "      <td>1907.000000</td>\n",
       "      <td>9.000000</td>\n",
       "      <td>1908.000000</td>\n",
       "      <td>1911.00000</td>\n",
       "      <td>27.000000</td>\n",
       "      <td>19.000000</td>\n",
       "      <td>0.000000</td>\n",
       "      <td>19.000000</td>\n",
       "      <td>35.000000</td>\n",
       "      <td>0.000000</td>\n",
       "    </tr>\n",
       "    <tr>\n",
       "      <th>max</th>\n",
       "      <td>2015.0</td>\n",
       "      <td>1.0</td>\n",
       "      <td>7.000000</td>\n",
       "      <td>7.000000</td>\n",
       "      <td>7438.000000</td>\n",
       "      <td>2359.000000</td>\n",
       "      <td>2400.000000</td>\n",
       "      <td>1380.000000</td>\n",
       "      <td>176.000000</td>\n",
       "      <td>2400.000000</td>\n",
       "      <td>718.000000</td>\n",
       "      <td>724.000000</td>\n",
       "      <td>676.000000</td>\n",
       "      <td>4983.000000</td>\n",
       "      <td>2400.000000</td>\n",
       "      <td>179.000000</td>\n",
       "      <td>2359.000000</td>\n",
       "      <td>2400.00000</td>\n",
       "      <td>1384.000000</td>\n",
       "      <td>590.000000</td>\n",
       "      <td>107.000000</td>\n",
       "      <td>1380.000000</td>\n",
       "      <td>891.000000</td>\n",
       "      <td>562.000000</td>\n",
       "    </tr>\n",
       "  </tbody>\n",
       "</table>\n",
       "</div>"
      ],
      "text/plain": [
       "           YEAR     MONTH            DAY    DAY_OF_WEEK  FLIGHT_NUMBER  \\\n",
       "count  100000.0  100000.0  100000.000000  100000.000000  100000.000000   \n",
       "mean     2015.0       1.0       3.733920       4.107310    2240.827980   \n",
       "std         0.0       0.0       1.815542       2.098451    1818.712658   \n",
       "min      2015.0       1.0       1.000000       1.000000       1.000000   \n",
       "25%      2015.0       1.0       2.000000       2.000000     759.000000   \n",
       "50%      2015.0       1.0       4.000000       4.000000    1693.000000   \n",
       "75%      2015.0       1.0       5.000000       6.000000    3394.000000   \n",
       "max      2015.0       1.0       7.000000       7.000000    7438.000000   \n",
       "\n",
       "       SCHEDULED_DEPARTURE  DEPARTURE_TIME  DEPARTURE_DELAY      TAXI_OUT  \\\n",
       "count        100000.000000    97702.000000     97702.000000  97629.000000   \n",
       "mean           1306.348280     1326.265614        19.937749     17.155917   \n",
       "std             482.325506      503.509117        45.843577     10.738373   \n",
       "min               5.000000        1.000000       -39.000000      1.000000   \n",
       "25%             904.000000      911.000000        -3.000000     11.000000   \n",
       "50%            1300.000000     1317.000000         3.000000     14.000000   \n",
       "75%            1720.000000     1739.000000        25.000000     20.000000   \n",
       "max            2359.000000     2400.000000      1380.000000    176.000000   \n",
       "\n",
       "         WHEELS_OFF  SCHEDULED_TIME  ELAPSED_TIME      AIR_TIME  \\\n",
       "count  97629.000000   100000.000000  97387.000000  97387.000000   \n",
       "mean    1348.426154      143.039340    142.362995    117.098032   \n",
       "std      504.142807       76.234984     76.649792     74.306645   \n",
       "min        1.000000       23.000000     17.000000      8.000000   \n",
       "25%      928.000000       86.000000     85.000000     62.000000   \n",
       "50%     1330.000000      125.000000    125.000000     98.000000   \n",
       "75%     1753.000000      175.000000    177.000000    150.000000   \n",
       "max     2400.000000      718.000000    724.000000    676.000000   \n",
       "\n",
       "            DISTANCE     WHEELS_ON       TAXI_IN  SCHEDULED_ARRIVAL  \\\n",
       "count  100000.000000  97560.000000  97560.000000      100000.000000   \n",
       "mean      830.389430   1454.528690      8.117876        1481.115620   \n",
       "std       609.183228    532.926016      7.561132         498.916358   \n",
       "min        31.000000      1.000000      1.000000           1.000000   \n",
       "25%       377.000000   1046.000000      4.000000        1100.000000   \n",
       "50%       669.000000   1452.000000      6.000000        1500.000000   \n",
       "75%      1069.000000   1907.000000      9.000000        1908.000000   \n",
       "max      4983.000000   2400.000000    179.000000        2359.000000   \n",
       "\n",
       "       ARRIVAL_TIME  ARRIVAL_DELAY  AIR_SYSTEM_DELAY  SECURITY_DELAY  \\\n",
       "count   97560.00000   97387.000000      34625.000000    34625.000000   \n",
       "mean     1458.02992      18.342304         14.026801        0.070787   \n",
       "std       538.21177      48.878234         25.965405        1.692526   \n",
       "min         1.00000     -65.000000          0.000000        0.000000   \n",
       "25%      1050.00000      -8.000000          0.000000        0.000000   \n",
       "50%      1455.00000       4.000000          4.000000        0.000000   \n",
       "75%      1911.00000      27.000000         19.000000        0.000000   \n",
       "max      2400.00000    1384.000000        590.000000      107.000000   \n",
       "\n",
       "       AIRLINE_DELAY  LATE_AIRCRAFT_DELAY  WEATHER_DELAY  \n",
       "count   34625.000000         34625.000000   34625.000000  \n",
       "mean       17.853921            26.014556       2.751971  \n",
       "std        43.527539            42.593343      17.265760  \n",
       "min         0.000000             0.000000       0.000000  \n",
       "25%         0.000000             0.000000       0.000000  \n",
       "50%         4.000000            10.000000       0.000000  \n",
       "75%        19.000000            35.000000       0.000000  \n",
       "max      1380.000000           891.000000     562.000000  "
      ]
     },
     "execution_count": 99,
     "metadata": {},
     "output_type": "execute_result"
    }
   ],
   "source": [
    "df.describe()"
   ]
  },
  {
   "cell_type": "markdown",
   "metadata": {},
   "source": [
    "Features of object and boolean type can also be described using `include` argument."
   ]
  },
  {
   "cell_type": "code",
   "execution_count": 17,
   "metadata": {},
   "outputs": [
    {
     "data": {
      "text/html": [
       "<div>\n",
       "<style scoped>\n",
       "    .dataframe tbody tr th:only-of-type {\n",
       "        vertical-align: middle;\n",
       "    }\n",
       "\n",
       "    .dataframe tbody tr th {\n",
       "        vertical-align: top;\n",
       "    }\n",
       "\n",
       "    .dataframe thead th {\n",
       "        text-align: right;\n",
       "    }\n",
       "</style>\n",
       "<table border=\"1\" class=\"dataframe\">\n",
       "  <thead>\n",
       "    <tr style=\"text-align: right;\">\n",
       "      <th></th>\n",
       "      <th>AIRLINE</th>\n",
       "      <th>TAIL_NUMBER</th>\n",
       "      <th>ORIGIN_AIRPORT</th>\n",
       "      <th>DESTINATION_AIRPORT</th>\n",
       "      <th>DIVERTED</th>\n",
       "      <th>CANCELLATION_REASON</th>\n",
       "    </tr>\n",
       "  </thead>\n",
       "  <tbody>\n",
       "    <tr>\n",
       "      <th>count</th>\n",
       "      <td>5819079</td>\n",
       "      <td>5804358</td>\n",
       "      <td>5819079</td>\n",
       "      <td>5819079</td>\n",
       "      <td>5819079</td>\n",
       "      <td>89884</td>\n",
       "    </tr>\n",
       "    <tr>\n",
       "      <th>unique</th>\n",
       "      <td>14</td>\n",
       "      <td>4897</td>\n",
       "      <td>930</td>\n",
       "      <td>930</td>\n",
       "      <td>2</td>\n",
       "      <td>4</td>\n",
       "    </tr>\n",
       "    <tr>\n",
       "      <th>top</th>\n",
       "      <td>WN</td>\n",
       "      <td>N480HA</td>\n",
       "      <td>ATL</td>\n",
       "      <td>ATL</td>\n",
       "      <td>False</td>\n",
       "      <td>B</td>\n",
       "    </tr>\n",
       "    <tr>\n",
       "      <th>freq</th>\n",
       "      <td>1261855</td>\n",
       "      <td>3768</td>\n",
       "      <td>346836</td>\n",
       "      <td>346904</td>\n",
       "      <td>5803892</td>\n",
       "      <td>48851</td>\n",
       "    </tr>\n",
       "  </tbody>\n",
       "</table>\n",
       "</div>"
      ],
      "text/plain": [
       "        AIRLINE TAIL_NUMBER ORIGIN_AIRPORT DESTINATION_AIRPORT DIVERTED  \\\n",
       "count   5819079     5804358        5819079             5819079  5819079   \n",
       "unique       14        4897            930                 930        2   \n",
       "top          WN      N480HA            ATL                 ATL    False   \n",
       "freq    1261855        3768         346836              346904  5803892   \n",
       "\n",
       "       CANCELLATION_REASON  \n",
       "count                89884  \n",
       "unique                   4  \n",
       "top                      B  \n",
       "freq                 48851  "
      ]
     },
     "execution_count": 17,
     "metadata": {},
     "output_type": "execute_result"
    }
   ],
   "source": [
    "# Describing all the Categorical Features\n",
    "df.describe(include=['O', 'Bool'])"
   ]
  },
  {
   "cell_type": "markdown",
   "metadata": {},
   "source": [
    "### Plotting univariate distributions\n",
    "\n",
    "**Histogram**\n",
    "\n",
    "Histogram is the most basic graph for exploring a continious feature. A histogram represents the distribution of data by forming bins along a range of values and drawing bars to represent frequency (count) or proportion (count/total count).\n",
    "\n",
    "The internal process of histogram drawing is:\n",
    "\n",
    "- define the range of data for each bin, \n",
    "- count how many cases fall in each bin, \n",
    "- and draw the bars high enough to indicate the count.\n",
    "\n",
    "A histogram can be drawn in seaborn using distplot() method.\n",
    "For bigger datset, it is convenient to sample some percentage of data for quick plotting.\n"
   ]
  },
  {
   "cell_type": "code",
   "execution_count": 17,
   "metadata": {},
   "outputs": [],
   "source": [
    "dfs = df.sample(frac = 0.1)"
   ]
  },
  {
   "cell_type": "code",
   "execution_count": 19,
   "metadata": {},
   "outputs": [
    {
     "data": {
      "image/png": "[encoded data removed]",
      "text/plain": [
       "<Figure size 432x288 with 1 Axes>"
      ]
     },
     "metadata": {
      "needs_background": "light"
     },
     "output_type": "display_data"
    }
   ],
   "source": [
    "sns.distplot(dfs.DEPARTURE_DELAY, color = 'green', kde=False, rug=True);"
   ]
  },
  {
   "cell_type": "markdown",
   "metadata": {},
   "source": [
    "It looks like the delay time is highly skewed with large number of values clustered arround zero, probably because most flights depart on time or with minimum delays."
   ]
  },
  {
   "cell_type": "code",
   "execution_count": 29,
   "metadata": {},
   "outputs": [
    {
     "data": {
      "text/plain": [
       "count   5732926.00\n",
       "mean          9.37\n",
       "std          37.08\n",
       "min         -82.00\n",
       "25%          -5.00\n",
       "50%          -2.00\n",
       "75%           7.00\n",
       "max        1988.00\n",
       "Name: DEPARTURE_DELAY, dtype: float64"
      ]
     },
     "execution_count": 29,
     "metadata": {},
     "output_type": "execute_result"
    }
   ],
   "source": [
    "df.DEPARTURE_DELAY.describe()"
   ]
  },
  {
   "cell_type": "markdown",
   "metadata": {},
   "source": [
    "It looks like 75 percent of the flights departed within 7 minutes of scheduled time. Based upon such knowledge, it might be helpful to think thorugh what amount of delay acutally constitute a delay. Once that got figured out,  delay categories for each flight can be defined like below using Pandas `cut` method. This is a simple example of feature engineering in which a new feature is derived from the existing ones."
   ]
  },
  {
   "cell_type": "code",
   "execution_count": 19,
   "metadata": {},
   "outputs": [],
   "source": [
    "df['delay_class'] = pd.cut(x=df['DEPARTURE_DELAY'], bins=[df['DEPARTURE_DELAY'].min(), 7, 20, 45, df['DEPARTURE_DELAY'].max()],\n",
    "                            labels=['no_delay', 'small_delay', 'moderate_delay', 'large_delay'])"
   ]
  },
  {
   "cell_type": "code",
   "execution_count": 20,
   "metadata": {},
   "outputs": [
    {
     "data": {
      "text/plain": [
       "no_delay          4315624\n",
       "small_delay        560249\n",
       "large_delay        443974\n",
       "moderate_delay     413078\n",
       "Name: delay_class, dtype: int64"
      ]
     },
     "execution_count": 20,
     "metadata": {},
     "output_type": "execute_result"
    }
   ],
   "source": [
    "df.delay_class.value_counts()"
   ]
  },
  {
   "cell_type": "markdown",
   "metadata": {},
   "source": [
    "Now we can plot the distributions for individual delay categories in subplots."
   ]
  },
  {
   "cell_type": "code",
   "execution_count": 106,
   "metadata": {},
   "outputs": [
    {
     "data": {
      "image/png": "[encoded data removed]",
      "text/plain": [
       "<Figure size 576x576 with 4 Axes>"
      ]
     },
     "metadata": {
      "needs_background": "light"
     },
     "output_type": "display_data"
    }
   ],
   "source": [
    "fig, axes = plt.subplots(ncols=2, nrows=2, figsize=(8,8))\n",
    "for cl, ax in zip(dfs.delay_class.unique(), axes.flat):\n",
    "    dfs_sub = dfs[dfs.delay_class == cl]\n",
    "    \n",
    "    sns.distplot(dfs_sub.DEPARTURE_DELAY, kde=False, rug=True, ax=ax);\n",
    "    \n",
    "    if cl == 'large_delay':\n",
    "        \n",
    "        ax.set_xlim(None, 500)\n",
    "    ax.set_xlabel(cl)"
   ]
  },
  {
   "cell_type": "markdown",
   "metadata": {},
   "source": [
    "#### Boxplot"
   ]
  },
  {
   "cell_type": "markdown",
   "metadata": {},
   "source": [
    "Boxplots are very good at presenting information about the central tendency, symmetry and skew, as well as outliers. One of the best uses of boxplots is in the form of side-by-side boxplots as shown below. In this case, however, the greater spread in `large_delay` category masked the information on other boxplots.  \n"
   ]
  },
  {
   "cell_type": "code",
   "execution_count": 23,
   "metadata": {},
   "outputs": [],
   "source": [
    "df_small = df[df.delay_class != 'large_delay']"
   ]
  },
  {
   "cell_type": "code",
   "execution_count": 24,
   "metadata": {},
   "outputs": [
    {
     "data": {
      "image/png": "[encoded data removed]",
      "text/plain": [
       "<Figure size 432x288 with 1 Axes>"
      ]
     },
     "metadata": {
      "needs_background": "light"
     },
     "output_type": "display_data"
    }
   ],
   "source": [
    "ax = sns.boxplot(x=\"delay_class\", y=\"DEPARTURE_DELAY\", data=df_small)"
   ]
  },
  {
   "cell_type": "code",
   "execution_count": 27,
   "metadata": {},
   "outputs": [
    {
     "data": {
      "image/png": "[encoded data removed]",
      "text/plain": [
       "<Figure size 432x288 with 1 Axes>"
      ]
     },
     "metadata": {
      "needs_background": "light"
     },
     "output_type": "display_data"
    }
   ],
   "source": [
    "ax = sns.boxplot(x=\"delay_class\", y=\"DEPARTURE_DELAY\", data=df)"
   ]
  },
  {
   "cell_type": "markdown",
   "metadata": {},
   "source": [
    "One waythe box plot can be useful in identifying the presence of an oulier. However, the designation of an observation as an outlier should be considered as just a suggestion that the points might be mistakes or otherwise unusual. The definition of outlier varies depending upon the purpose and situation, and hence should be guided by informed criteria."
   ]
  },
  {
   "cell_type": "markdown",
   "metadata": {},
   "source": [
    "## 3. Is there any need to clean data? Specifically,\n",
    "\n",
    "- Are there any missing values?\n",
    "\n",
    "- Are there values such as  ±Inf?\n",
    "- Are there any outliers?\n",
    "- Are their obvious inconsistencies in data such as unreasonable dates, age of person ( negative/very high) etc?"
   ]
  },
  {
   "cell_type": "markdown",
   "metadata": {},
   "source": [
    "We can replace values like ±Inf using .replace method."
   ]
  },
  {
   "cell_type": "code",
   "execution_count": 28,
   "metadata": {},
   "outputs": [
    {
     "data": {
      "text/plain": [
       "0            98\n",
       "1          2336\n",
       "2           840\n",
       "3           258\n",
       "4           135\n",
       "           ... \n",
       "5819074     688\n",
       "5819075     745\n",
       "5819076    1503\n",
       "5819077     333\n",
       "5819078     839\n",
       "Name: FLIGHT_NUMBER, Length: 5819079, dtype: int64"
      ]
     },
     "execution_count": 28,
     "metadata": {},
     "output_type": "execute_result"
    }
   ],
   "source": [
    "df.FLIGHT_NUMBER.replace({np.inf:np.nan, np.NINF:np.nan})"
   ]
  },
  {
   "cell_type": "raw",
   "metadata": {},
   "source": [
    "A conditional statement combined with indexing can be used to replace or remove undesirable values. Lets say, if we have a reason to believe that representing negative delay (supposedly early arrival) in the data might deteoriate the performance of our final flight dealy model, and we want to remove them."
   ]
  },
  {
   "cell_type": "code",
   "execution_count": 29,
   "metadata": {},
   "outputs": [],
   "source": [
    "con = df.DEPARTURE_DELAY > 0\n",
    "df = df[con]"
   ]
  },
  {
   "cell_type": "markdown",
   "metadata": {},
   "source": [
    "### Missing values by columns\n",
    "Knowing this informaiton will help with your EDA and figuring out what kind of data cleaning and preprocessing is needed."
   ]
  },
  {
   "cell_type": "code",
   "execution_count": 30,
   "metadata": {},
   "outputs": [
    {
     "data": {
      "text/plain": [
       "YEAR                        0\n",
       "MONTH                       0\n",
       "DAY                         0\n",
       "DAY_OF_WEEK                 0\n",
       "AIRLINE                     0\n",
       "FLIGHT_NUMBER               0\n",
       "TAIL_NUMBER              1455\n",
       "ORIGIN_AIRPORT              0\n",
       "DESTINATION_AIRPORT         0\n",
       "SCHEDULED_DEPARTURE         0\n",
       "DEPARTURE_TIME           8382\n",
       "DEPARTURE_DELAY          8382\n",
       "TAXI_OUT                 8679\n",
       "WHEELS_OFF               8679\n",
       "SCHEDULED_TIME              1\n",
       "ELAPSED_TIME            10242\n",
       "AIR_TIME                10242\n",
       "DISTANCE                    0\n",
       "WHEELS_ON                9026\n",
       "TAXI_IN                  9026\n",
       "SCHEDULED_ARRIVAL           0\n",
       "ARRIVAL_TIME             9026\n",
       "ARRIVAL_DELAY           10242\n",
       "DIVERTED                    0\n",
       "CANCELLED                   0\n",
       "CANCELLATION_REASON    573133\n",
       "AIR_SYSTEM_DELAY       475725\n",
       "SECURITY_DELAY         475725\n",
       "AIRLINE_DELAY          475725\n",
       "LATE_AIRCRAFT_DELAY    475725\n",
       "WEATHER_DELAY          475725\n",
       "dtype: int64"
      ]
     },
     "execution_count": 30,
     "metadata": {},
     "output_type": "execute_result"
    }
   ],
   "source": [
    "dfs.isnull().sum()"
   ]
  },
  {
   "cell_type": "markdown",
   "metadata": {},
   "source": [
    "One way of dealing with missing values is to simply drop them when the data size is very big compared to the rows with missing values. However, sometimes the missing value can carry unique information. There are different ways to deal with missing values. We will go through some of them in little more depth in the next week lecture. \n",
    "\n",
    "To drop rows with missing value in certain columns, the column name can be supplied inside the list of the subset argument of dropna method of a dataframe as below."
   ]
  },
  {
   "cell_type": "code",
   "execution_count": 31,
   "metadata": {},
   "outputs": [],
   "source": [
    "df = df.dropna(subset = [\"DEPARTURE_DELAY\"])"
   ]
  },
  {
   "cell_type": "code",
   "execution_count": null,
   "metadata": {},
   "outputs": [],
   "source": []
  }
 ],
 "metadata": {
  "kernelspec": {
   "display_name": "Python 3",
   "language": "python",
   "name": "python3"
  },
  "language_info": {
   "codemirror_mode": {
    "name": "ipython",
    "version": 3
   },
   "file_extension": ".py",
   "mimetype": "text/x-python",
   "name": "python",
   "nbconvert_exporter": "python",
   "pygments_lexer": "ipython3",
   "version": "3.8.1"
  }
 },
 "nbformat": 4,
 "nbformat_minor": 4
}
